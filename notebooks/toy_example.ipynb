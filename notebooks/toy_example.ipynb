{
 "cells": [
  {
   "cell_type": "markdown",
   "metadata": {},
   "source": [
    "# P-MEDM Toy Example\n",
    "\n",
    "This illustration replicates an example used in Tuccillo and Spielman (2022).\n",
    "\n",
    "* **Joseph V. Tuccillo & Seth E. Spielman** (2022) A Method for Measuring Coupled Individual and Social Vulnerability to Environmental Hazards, *Annals of the American Association of Geographers*, 112:6, 1702-1725, DOI: [10.1080/24694452.2021.1989283](https://www.tandfonline.com/doi/full/10.1080/24694452.2021.1989283)\n",
    "\n",
    "## Setup"
   ]
  },
  {
   "cell_type": "code",
   "execution_count": 1,
   "metadata": {
    "ExecuteTime": {
     "end_time": "2023-03-20T18:28:13.098377Z",
     "start_time": "2023-03-20T18:28:13.081257Z"
    },
    "execution": {
     "iopub.execute_input": "2025-02-10T03:38:17.499816Z",
     "iopub.status.busy": "2025-02-10T03:38:17.499636Z",
     "iopub.status.idle": "2025-02-10T03:38:17.522333Z",
     "shell.execute_reply": "2025-02-10T03:38:17.521962Z",
     "shell.execute_reply.started": "2025-02-10T03:38:17.499797Z"
    }
   },
   "outputs": [
    {
     "name": "stdout",
     "output_type": "stream",
     "text": [
      "Last updated: 2025-03-20T16:12:20.740418-04:00\n",
      "\n",
      "Python implementation: CPython\n",
      "Python version       : 3.12.9\n",
      "IPython version      : 9.0.2\n",
      "\n",
      "Compiler    : Clang 18.1.8 \n",
      "OS          : Darwin\n",
      "Release     : 24.3.0\n",
      "Machine     : arm64\n",
      "Processor   : arm\n",
      "CPU cores   : 8\n",
      "Architecture: 64bit\n",
      "\n"
     ]
    }
   ],
   "source": [
    "%load_ext watermark\n",
    "%watermark"
   ]
  },
  {
   "cell_type": "code",
   "execution_count": 2,
   "metadata": {
    "execution": {
     "iopub.execute_input": "2025-02-10T03:38:17.523137Z",
     "iopub.status.busy": "2025-02-10T03:38:17.523039Z",
     "iopub.status.idle": "2025-02-10T03:38:18.839026Z",
     "shell.execute_reply": "2025-02-10T03:38:18.838614Z",
     "shell.execute_reply.started": "2025-02-10T03:38:17.523122Z"
    }
   },
   "outputs": [],
   "source": [
    "import pathlib\n",
    "\n",
    "import numpy as np\n",
    "import pandas as pd\n",
    "\n",
    "import pmedm_legacy"
   ]
  },
  {
   "cell_type": "code",
   "execution_count": 3,
   "metadata": {
    "execution": {
     "iopub.execute_input": "2025-02-10T03:38:18.839643Z",
     "iopub.status.busy": "2025-02-10T03:38:18.839521Z",
     "iopub.status.idle": "2025-02-10T03:38:18.843503Z",
     "shell.execute_reply": "2025-02-10T03:38:18.843301Z",
     "shell.execute_reply.started": "2025-02-10T03:38:18.839633Z"
    }
   },
   "outputs": [
    {
     "name": "stdout",
     "output_type": "stream",
     "text": [
      "Watermark: 2.5.0\n",
      "\n",
      "pandas      : 2.2.3\n",
      "pmedm_legacy: 0.0.5\n",
      "numpy       : 2.2.4\n",
      "\n"
     ]
    }
   ],
   "source": [
    "%watermark -w\n",
    "%watermark -iv"
   ]
  },
  {
   "cell_type": "markdown",
   "metadata": {},
   "source": [
    "## Inputs\n",
    "1. Year (`year`)\n",
    "2. Microdata sample weights (`wt`)\n",
    "3. Individual-Level constraints from microdata (`cind`)\n",
    "4. Geographic constraints at target scale (census block groups) (`cg2` / `cbg`) and parent scale (census tracts) (`cg1` / `ctrt`)\n",
    "5. Geographic constraint standard errors at target scale (census block groups) (`sg2` / `sbg`) and parent scale (census tracts) (`sg1` / `strt`)\n",
    "\n",
    "## Load the individual constraints"
   ]
  },
  {
   "cell_type": "code",
   "execution_count": 4,
   "metadata": {
    "execution": {
     "iopub.execute_input": "2025-02-10T03:38:18.843921Z",
     "iopub.status.busy": "2025-02-10T03:38:18.843853Z",
     "iopub.status.idle": "2025-02-10T03:38:18.845340Z",
     "shell.execute_reply": "2025-02-10T03:38:18.845152Z",
     "shell.execute_reply.started": "2025-02-10T03:38:18.843912Z"
    }
   },
   "outputs": [],
   "source": [
    "ddir = pathlib.Path(\"..\", \"pmedm_legacy\", \"data\")\n",
    "dpattern = \"toy_constraints_{}.csv\""
   ]
  },
  {
   "cell_type": "code",
   "execution_count": 5,
   "metadata": {
    "execution": {
     "iopub.execute_input": "2025-02-10T03:38:18.845828Z",
     "iopub.status.busy": "2025-02-10T03:38:18.845708Z",
     "iopub.status.idle": "2025-02-10T03:38:18.852798Z",
     "shell.execute_reply": "2025-02-10T03:38:18.852588Z",
     "shell.execute_reply.started": "2025-02-10T03:38:18.845820Z"
    }
   },
   "outputs": [
    {
     "data": {
      "text/html": [
       "<div>\n",
       "<style scoped>\n",
       "    .dataframe tbody tr th:only-of-type {\n",
       "        vertical-align: middle;\n",
       "    }\n",
       "\n",
       "    .dataframe tbody tr th {\n",
       "        vertical-align: top;\n",
       "    }\n",
       "\n",
       "    .dataframe thead th {\n",
       "        text-align: right;\n",
       "    }\n",
       "</style>\n",
       "<table border=\"1\" class=\"dataframe\">\n",
       "  <thead>\n",
       "    <tr style=\"text-align: right;\">\n",
       "      <th></th>\n",
       "      <th>SERIAL</th>\n",
       "      <th>PERWT</th>\n",
       "      <th>POP</th>\n",
       "      <th>CONST1</th>\n",
       "      <th>CONST2</th>\n",
       "      <th>CONST3</th>\n",
       "      <th>CONST4</th>\n",
       "      <th>CONST5</th>\n",
       "      <th>CONST6</th>\n",
       "    </tr>\n",
       "  </thead>\n",
       "  <tbody>\n",
       "    <tr>\n",
       "      <th>0</th>\n",
       "      <td>A</td>\n",
       "      <td>50</td>\n",
       "      <td>1</td>\n",
       "      <td>1</td>\n",
       "      <td>1</td>\n",
       "      <td>1</td>\n",
       "      <td>0</td>\n",
       "      <td>1</td>\n",
       "      <td>0</td>\n",
       "    </tr>\n",
       "    <tr>\n",
       "      <th>1</th>\n",
       "      <td>B</td>\n",
       "      <td>20</td>\n",
       "      <td>1</td>\n",
       "      <td>0</td>\n",
       "      <td>0</td>\n",
       "      <td>0</td>\n",
       "      <td>0</td>\n",
       "      <td>1</td>\n",
       "      <td>1</td>\n",
       "    </tr>\n",
       "    <tr>\n",
       "      <th>2</th>\n",
       "      <td>C</td>\n",
       "      <td>10</td>\n",
       "      <td>1</td>\n",
       "      <td>1</td>\n",
       "      <td>1</td>\n",
       "      <td>0</td>\n",
       "      <td>1</td>\n",
       "      <td>1</td>\n",
       "      <td>1</td>\n",
       "    </tr>\n",
       "    <tr>\n",
       "      <th>3</th>\n",
       "      <td>D</td>\n",
       "      <td>5</td>\n",
       "      <td>1</td>\n",
       "      <td>1</td>\n",
       "      <td>0</td>\n",
       "      <td>0</td>\n",
       "      <td>0</td>\n",
       "      <td>0</td>\n",
       "      <td>0</td>\n",
       "    </tr>\n",
       "    <tr>\n",
       "      <th>4</th>\n",
       "      <td>E</td>\n",
       "      <td>15</td>\n",
       "      <td>1</td>\n",
       "      <td>0</td>\n",
       "      <td>1</td>\n",
       "      <td>1</td>\n",
       "      <td>0</td>\n",
       "      <td>0</td>\n",
       "      <td>0</td>\n",
       "    </tr>\n",
       "  </tbody>\n",
       "</table>\n",
       "</div>"
      ],
      "text/plain": [
       "  SERIAL  PERWT  POP  CONST1  CONST2  CONST3  CONST4  CONST5  CONST6\n",
       "0      A     50    1       1       1       1       0       1       0\n",
       "1      B     20    1       0       0       0       0       1       1\n",
       "2      C     10    1       1       1       0       1       1       1\n",
       "3      D      5    1       1       0       0       0       0       0\n",
       "4      E     15    1       0       1       1       0       0       0"
      ]
     },
     "execution_count": 5,
     "metadata": {},
     "output_type": "execute_result"
    }
   ],
   "source": [
    "cind = pd.read_csv(ddir / dpattern.format(\"ind\"))\n",
    "cind.head()"
   ]
  },
  {
   "cell_type": "markdown",
   "metadata": {},
   "source": [
    "## Sample weights"
   ]
  },
  {
   "cell_type": "code",
   "execution_count": 6,
   "metadata": {
    "execution": {
     "iopub.execute_input": "2025-02-10T03:38:18.854208Z",
     "iopub.status.busy": "2025-02-10T03:38:18.854107Z",
     "iopub.status.idle": "2025-02-10T03:38:18.856513Z",
     "shell.execute_reply": "2025-02-10T03:38:18.856252Z",
     "shell.execute_reply.started": "2025-02-10T03:38:18.854200Z"
    }
   },
   "outputs": [
    {
     "data": {
      "text/plain": [
       "array([50, 20, 10,  5, 15])"
      ]
     },
     "execution_count": 6,
     "metadata": {},
     "output_type": "execute_result"
    }
   ],
   "source": [
    "wt = cind[\"PERWT\"].to_numpy()\n",
    "wt"
   ]
  },
  {
   "cell_type": "code",
   "execution_count": 7,
   "metadata": {
    "execution": {
     "iopub.execute_input": "2025-02-10T03:38:18.856992Z",
     "iopub.status.busy": "2025-02-10T03:38:18.856879Z",
     "iopub.status.idle": "2025-02-10T03:38:18.860626Z",
     "shell.execute_reply": "2025-02-10T03:38:18.860322Z",
     "shell.execute_reply.started": "2025-02-10T03:38:18.856980Z"
    }
   },
   "outputs": [
    {
     "data": {
      "text/html": [
       "<div>\n",
       "<style scoped>\n",
       "    .dataframe tbody tr th:only-of-type {\n",
       "        vertical-align: middle;\n",
       "    }\n",
       "\n",
       "    .dataframe tbody tr th {\n",
       "        vertical-align: top;\n",
       "    }\n",
       "\n",
       "    .dataframe thead th {\n",
       "        text-align: right;\n",
       "    }\n",
       "</style>\n",
       "<table border=\"1\" class=\"dataframe\">\n",
       "  <thead>\n",
       "    <tr style=\"text-align: right;\">\n",
       "      <th></th>\n",
       "      <th>POP</th>\n",
       "      <th>CONST1</th>\n",
       "      <th>CONST2</th>\n",
       "      <th>CONST3</th>\n",
       "      <th>CONST4</th>\n",
       "      <th>CONST5</th>\n",
       "      <th>CONST6</th>\n",
       "    </tr>\n",
       "  </thead>\n",
       "  <tbody>\n",
       "    <tr>\n",
       "      <th>0</th>\n",
       "      <td>1</td>\n",
       "      <td>1</td>\n",
       "      <td>1</td>\n",
       "      <td>1</td>\n",
       "      <td>0</td>\n",
       "      <td>1</td>\n",
       "      <td>0</td>\n",
       "    </tr>\n",
       "    <tr>\n",
       "      <th>1</th>\n",
       "      <td>1</td>\n",
       "      <td>0</td>\n",
       "      <td>0</td>\n",
       "      <td>0</td>\n",
       "      <td>0</td>\n",
       "      <td>1</td>\n",
       "      <td>1</td>\n",
       "    </tr>\n",
       "    <tr>\n",
       "      <th>2</th>\n",
       "      <td>1</td>\n",
       "      <td>1</td>\n",
       "      <td>1</td>\n",
       "      <td>0</td>\n",
       "      <td>1</td>\n",
       "      <td>1</td>\n",
       "      <td>1</td>\n",
       "    </tr>\n",
       "    <tr>\n",
       "      <th>3</th>\n",
       "      <td>1</td>\n",
       "      <td>1</td>\n",
       "      <td>0</td>\n",
       "      <td>0</td>\n",
       "      <td>0</td>\n",
       "      <td>0</td>\n",
       "      <td>0</td>\n",
       "    </tr>\n",
       "    <tr>\n",
       "      <th>4</th>\n",
       "      <td>1</td>\n",
       "      <td>0</td>\n",
       "      <td>1</td>\n",
       "      <td>1</td>\n",
       "      <td>0</td>\n",
       "      <td>0</td>\n",
       "      <td>0</td>\n",
       "    </tr>\n",
       "  </tbody>\n",
       "</table>\n",
       "</div>"
      ],
      "text/plain": [
       "   POP  CONST1  CONST2  CONST3  CONST4  CONST5  CONST6\n",
       "0    1       1       1       1       0       1       0\n",
       "1    1       0       0       0       0       1       1\n",
       "2    1       1       1       0       1       1       1\n",
       "3    1       1       0       0       0       0       0\n",
       "4    1       0       1       1       0       0       0"
      ]
     },
     "execution_count": 7,
     "metadata": {},
     "output_type": "execute_result"
    }
   ],
   "source": [
    "cind = cind.drop(columns=[\"SERIAL\", \"PERWT\"])\n",
    "cind"
   ]
  },
  {
   "cell_type": "markdown",
   "metadata": {},
   "source": [
    "# Geographic constraints"
   ]
  },
  {
   "cell_type": "code",
   "execution_count": 8,
   "metadata": {
    "execution": {
     "iopub.execute_input": "2025-02-10T03:38:18.861221Z",
     "iopub.status.busy": "2025-02-10T03:38:18.861086Z",
     "iopub.status.idle": "2025-02-10T03:38:18.866307Z",
     "shell.execute_reply": "2025-02-10T03:38:18.866121Z",
     "shell.execute_reply.started": "2025-02-10T03:38:18.861211Z"
    }
   },
   "outputs": [
    {
     "data": {
      "text/html": [
       "<div>\n",
       "<style scoped>\n",
       "    .dataframe tbody tr th:only-of-type {\n",
       "        vertical-align: middle;\n",
       "    }\n",
       "\n",
       "    .dataframe tbody tr th {\n",
       "        vertical-align: top;\n",
       "    }\n",
       "\n",
       "    .dataframe thead th {\n",
       "        text-align: right;\n",
       "    }\n",
       "</style>\n",
       "<table border=\"1\" class=\"dataframe\">\n",
       "  <thead>\n",
       "    <tr style=\"text-align: right;\">\n",
       "      <th></th>\n",
       "      <th>GEOID</th>\n",
       "      <th>POP</th>\n",
       "      <th>POPs</th>\n",
       "      <th>CONST1</th>\n",
       "      <th>CONST1s</th>\n",
       "      <th>CONST2</th>\n",
       "      <th>CONST2s</th>\n",
       "      <th>CONST3</th>\n",
       "      <th>CONST3s</th>\n",
       "      <th>CONST4</th>\n",
       "      <th>CONST4s</th>\n",
       "      <th>CONST5</th>\n",
       "      <th>CONST5s</th>\n",
       "      <th>CONST6</th>\n",
       "      <th>CONST6s</th>\n",
       "    </tr>\n",
       "  </thead>\n",
       "  <tbody>\n",
       "    <tr>\n",
       "      <th>10</th>\n",
       "      <td>10</td>\n",
       "      <td>28</td>\n",
       "      <td>2</td>\n",
       "      <td>15</td>\n",
       "      <td>1.75</td>\n",
       "      <td>25</td>\n",
       "      <td>2.25</td>\n",
       "      <td>15</td>\n",
       "      <td>3</td>\n",
       "      <td>3</td>\n",
       "      <td>0.5</td>\n",
       "      <td>16</td>\n",
       "      <td>2.75</td>\n",
       "      <td>5</td>\n",
       "      <td>1</td>\n",
       "    </tr>\n",
       "    <tr>\n",
       "      <th>11</th>\n",
       "      <td>11</td>\n",
       "      <td>20</td>\n",
       "      <td>2</td>\n",
       "      <td>13</td>\n",
       "      <td>1.50</td>\n",
       "      <td>13</td>\n",
       "      <td>2.25</td>\n",
       "      <td>12</td>\n",
       "      <td>2</td>\n",
       "      <td>2</td>\n",
       "      <td>0.5</td>\n",
       "      <td>17</td>\n",
       "      <td>2.75</td>\n",
       "      <td>8</td>\n",
       "      <td>1</td>\n",
       "    </tr>\n",
       "    <tr>\n",
       "      <th>20</th>\n",
       "      <td>20</td>\n",
       "      <td>30</td>\n",
       "      <td>2</td>\n",
       "      <td>18</td>\n",
       "      <td>1.75</td>\n",
       "      <td>22</td>\n",
       "      <td>2.25</td>\n",
       "      <td>20</td>\n",
       "      <td>2</td>\n",
       "      <td>3</td>\n",
       "      <td>0.5</td>\n",
       "      <td>27</td>\n",
       "      <td>2.75</td>\n",
       "      <td>7</td>\n",
       "      <td>1</td>\n",
       "    </tr>\n",
       "    <tr>\n",
       "      <th>21</th>\n",
       "      <td>21</td>\n",
       "      <td>22</td>\n",
       "      <td>2</td>\n",
       "      <td>19</td>\n",
       "      <td>1.75</td>\n",
       "      <td>15</td>\n",
       "      <td>2.25</td>\n",
       "      <td>18</td>\n",
       "      <td>2</td>\n",
       "      <td>2</td>\n",
       "      <td>0.5</td>\n",
       "      <td>20</td>\n",
       "      <td>2.75</td>\n",
       "      <td>10</td>\n",
       "      <td>1</td>\n",
       "    </tr>\n",
       "  </tbody>\n",
       "</table>\n",
       "</div>"
      ],
      "text/plain": [
       "    GEOID  POP  POPs  CONST1  CONST1s  CONST2  CONST2s  CONST3  CONST3s  \\\n",
       "10     10   28     2      15     1.75      25     2.25      15        3   \n",
       "11     11   20     2      13     1.50      13     2.25      12        2   \n",
       "20     20   30     2      18     1.75      22     2.25      20        2   \n",
       "21     21   22     2      19     1.75      15     2.25      18        2   \n",
       "\n",
       "    CONST4  CONST4s  CONST5  CONST5s  CONST6  CONST6s  \n",
       "10       3      0.5      16     2.75       5        1  \n",
       "11       2      0.5      17     2.75       8        1  \n",
       "20       3      0.5      27     2.75       7        1  \n",
       "21       2      0.5      20     2.75      10        1  "
      ]
     },
     "execution_count": 8,
     "metadata": {},
     "output_type": "execute_result"
    }
   ],
   "source": [
    "cbg0 = pd.read_csv(ddir / dpattern.format(\"bg\"))\n",
    "cbg0.index = cbg0[\"GEOID\"].to_numpy()\n",
    "cbg0"
   ]
  },
  {
   "cell_type": "markdown",
   "metadata": {},
   "source": [
    "## Separate ests and standard errors"
   ]
  },
  {
   "cell_type": "code",
   "execution_count": 9,
   "metadata": {
    "execution": {
     "iopub.execute_input": "2025-02-10T03:38:18.866793Z",
     "iopub.status.busy": "2025-02-10T03:38:18.866676Z",
     "iopub.status.idle": "2025-02-10T03:38:18.868961Z",
     "shell.execute_reply": "2025-02-10T03:38:18.868677Z",
     "shell.execute_reply.started": "2025-02-10T03:38:18.866786Z"
    }
   },
   "outputs": [],
   "source": [
    "se_cols = cbg0.columns[np.where([k.endswith(\"s\") for k in cbg0.columns])]\n",
    "est_cols = cbg0.columns[\n",
    "    np.where([(k not in se_cols) & (k != \"GEOID\") for k in cbg0.columns])\n",
    "]\n",
    "\n",
    "cbg = cbg0[est_cols].copy()\n",
    "sbg = cbg0[se_cols].copy()"
   ]
  },
  {
   "cell_type": "markdown",
   "metadata": {},
   "source": [
    "## Tract constraints"
   ]
  },
  {
   "cell_type": "code",
   "execution_count": 10,
   "metadata": {
    "execution": {
     "iopub.execute_input": "2025-02-10T03:38:18.869348Z",
     "iopub.status.busy": "2025-02-10T03:38:18.869286Z",
     "iopub.status.idle": "2025-02-10T03:38:18.871317Z",
     "shell.execute_reply": "2025-02-10T03:38:18.871104Z",
     "shell.execute_reply.started": "2025-02-10T03:38:18.869342Z"
    }
   },
   "outputs": [],
   "source": [
    "ctrt0 = cbg0.copy()\n",
    "ctrt0.index = [str(i)[0] for i in ctrt0[\"GEOID\"].to_numpy()]\n",
    "ctrt0 = ctrt0.drop(columns=[\"GEOID\"])"
   ]
  },
  {
   "cell_type": "markdown",
   "metadata": {},
   "source": [
    "## Separate ests and standard errors"
   ]
  },
  {
   "cell_type": "code",
   "execution_count": 11,
   "metadata": {
    "execution": {
     "iopub.execute_input": "2025-02-10T03:38:18.871737Z",
     "iopub.status.busy": "2025-02-10T03:38:18.871655Z",
     "iopub.status.idle": "2025-02-10T03:38:18.873919Z",
     "shell.execute_reply": "2025-02-10T03:38:18.873688Z",
     "shell.execute_reply.started": "2025-02-10T03:38:18.871730Z"
    }
   },
   "outputs": [],
   "source": [
    "ctrt = ctrt0[est_cols].copy()\n",
    "strt = ctrt0[se_cols].copy()"
   ]
  },
  {
   "cell_type": "code",
   "execution_count": 12,
   "metadata": {
    "execution": {
     "iopub.execute_input": "2025-02-10T03:38:18.874457Z",
     "iopub.status.busy": "2025-02-10T03:38:18.874376Z",
     "iopub.status.idle": "2025-02-10T03:38:18.877521Z",
     "shell.execute_reply": "2025-02-10T03:38:18.877284Z",
     "shell.execute_reply.started": "2025-02-10T03:38:18.874450Z"
    }
   },
   "outputs": [
    {
     "data": {
      "text/html": [
       "<div>\n",
       "<style scoped>\n",
       "    .dataframe tbody tr th:only-of-type {\n",
       "        vertical-align: middle;\n",
       "    }\n",
       "\n",
       "    .dataframe tbody tr th {\n",
       "        vertical-align: top;\n",
       "    }\n",
       "\n",
       "    .dataframe thead th {\n",
       "        text-align: right;\n",
       "    }\n",
       "</style>\n",
       "<table border=\"1\" class=\"dataframe\">\n",
       "  <thead>\n",
       "    <tr style=\"text-align: right;\">\n",
       "      <th></th>\n",
       "      <th>POP</th>\n",
       "      <th>CONST1</th>\n",
       "      <th>CONST2</th>\n",
       "      <th>CONST3</th>\n",
       "      <th>CONST4</th>\n",
       "      <th>CONST5</th>\n",
       "      <th>CONST6</th>\n",
       "    </tr>\n",
       "  </thead>\n",
       "  <tbody>\n",
       "    <tr>\n",
       "      <th>1</th>\n",
       "      <td>28</td>\n",
       "      <td>15</td>\n",
       "      <td>25</td>\n",
       "      <td>15</td>\n",
       "      <td>3</td>\n",
       "      <td>16</td>\n",
       "      <td>5</td>\n",
       "    </tr>\n",
       "    <tr>\n",
       "      <th>1</th>\n",
       "      <td>20</td>\n",
       "      <td>13</td>\n",
       "      <td>13</td>\n",
       "      <td>12</td>\n",
       "      <td>2</td>\n",
       "      <td>17</td>\n",
       "      <td>8</td>\n",
       "    </tr>\n",
       "    <tr>\n",
       "      <th>2</th>\n",
       "      <td>30</td>\n",
       "      <td>18</td>\n",
       "      <td>22</td>\n",
       "      <td>20</td>\n",
       "      <td>3</td>\n",
       "      <td>27</td>\n",
       "      <td>7</td>\n",
       "    </tr>\n",
       "    <tr>\n",
       "      <th>2</th>\n",
       "      <td>22</td>\n",
       "      <td>19</td>\n",
       "      <td>15</td>\n",
       "      <td>18</td>\n",
       "      <td>2</td>\n",
       "      <td>20</td>\n",
       "      <td>10</td>\n",
       "    </tr>\n",
       "  </tbody>\n",
       "</table>\n",
       "</div>"
      ],
      "text/plain": [
       "   POP  CONST1  CONST2  CONST3  CONST4  CONST5  CONST6\n",
       "1   28      15      25      15       3      16       5\n",
       "1   20      13      13      12       2      17       8\n",
       "2   30      18      22      20       3      27       7\n",
       "2   22      19      15      18       2      20      10"
      ]
     },
     "execution_count": 12,
     "metadata": {},
     "output_type": "execute_result"
    }
   ],
   "source": [
    "ctrt"
   ]
  },
  {
   "cell_type": "code",
   "execution_count": 13,
   "metadata": {
    "execution": {
     "iopub.execute_input": "2025-02-10T03:38:18.878007Z",
     "iopub.status.busy": "2025-02-10T03:38:18.877894Z",
     "iopub.status.idle": "2025-02-10T03:38:18.881519Z",
     "shell.execute_reply": "2025-02-10T03:38:18.881293Z",
     "shell.execute_reply.started": "2025-02-10T03:38:18.877999Z"
    }
   },
   "outputs": [
    {
     "data": {
      "text/html": [
       "<div>\n",
       "<style scoped>\n",
       "    .dataframe tbody tr th:only-of-type {\n",
       "        vertical-align: middle;\n",
       "    }\n",
       "\n",
       "    .dataframe tbody tr th {\n",
       "        vertical-align: top;\n",
       "    }\n",
       "\n",
       "    .dataframe thead th {\n",
       "        text-align: right;\n",
       "    }\n",
       "</style>\n",
       "<table border=\"1\" class=\"dataframe\">\n",
       "  <thead>\n",
       "    <tr style=\"text-align: right;\">\n",
       "      <th></th>\n",
       "      <th>POPs</th>\n",
       "      <th>CONST1s</th>\n",
       "      <th>CONST2s</th>\n",
       "      <th>CONST3s</th>\n",
       "      <th>CONST4s</th>\n",
       "      <th>CONST5s</th>\n",
       "      <th>CONST6s</th>\n",
       "    </tr>\n",
       "  </thead>\n",
       "  <tbody>\n",
       "    <tr>\n",
       "      <th>1</th>\n",
       "      <td>2</td>\n",
       "      <td>1.75</td>\n",
       "      <td>2.25</td>\n",
       "      <td>3</td>\n",
       "      <td>0.5</td>\n",
       "      <td>2.75</td>\n",
       "      <td>1</td>\n",
       "    </tr>\n",
       "    <tr>\n",
       "      <th>1</th>\n",
       "      <td>2</td>\n",
       "      <td>1.50</td>\n",
       "      <td>2.25</td>\n",
       "      <td>2</td>\n",
       "      <td>0.5</td>\n",
       "      <td>2.75</td>\n",
       "      <td>1</td>\n",
       "    </tr>\n",
       "    <tr>\n",
       "      <th>2</th>\n",
       "      <td>2</td>\n",
       "      <td>1.75</td>\n",
       "      <td>2.25</td>\n",
       "      <td>2</td>\n",
       "      <td>0.5</td>\n",
       "      <td>2.75</td>\n",
       "      <td>1</td>\n",
       "    </tr>\n",
       "    <tr>\n",
       "      <th>2</th>\n",
       "      <td>2</td>\n",
       "      <td>1.75</td>\n",
       "      <td>2.25</td>\n",
       "      <td>2</td>\n",
       "      <td>0.5</td>\n",
       "      <td>2.75</td>\n",
       "      <td>1</td>\n",
       "    </tr>\n",
       "  </tbody>\n",
       "</table>\n",
       "</div>"
      ],
      "text/plain": [
       "   POPs  CONST1s  CONST2s  CONST3s  CONST4s  CONST5s  CONST6s\n",
       "1     2     1.75     2.25        3      0.5     2.75        1\n",
       "1     2     1.50     2.25        2      0.5     2.75        1\n",
       "2     2     1.75     2.25        2      0.5     2.75        1\n",
       "2     2     1.75     2.25        2      0.5     2.75        1"
      ]
     },
     "execution_count": 13,
     "metadata": {},
     "output_type": "execute_result"
    }
   ],
   "source": [
    "strt"
   ]
  },
  {
   "cell_type": "markdown",
   "metadata": {},
   "source": [
    "## Aggregate ests"
   ]
  },
  {
   "cell_type": "code",
   "execution_count": 14,
   "metadata": {
    "execution": {
     "iopub.execute_input": "2025-02-10T03:38:18.882019Z",
     "iopub.status.busy": "2025-02-10T03:38:18.881909Z",
     "iopub.status.idle": "2025-02-10T03:38:18.885462Z",
     "shell.execute_reply": "2025-02-10T03:38:18.885223Z",
     "shell.execute_reply.started": "2025-02-10T03:38:18.882010Z"
    }
   },
   "outputs": [
    {
     "data": {
      "text/html": [
       "<div>\n",
       "<style scoped>\n",
       "    .dataframe tbody tr th:only-of-type {\n",
       "        vertical-align: middle;\n",
       "    }\n",
       "\n",
       "    .dataframe tbody tr th {\n",
       "        vertical-align: top;\n",
       "    }\n",
       "\n",
       "    .dataframe thead th {\n",
       "        text-align: right;\n",
       "    }\n",
       "</style>\n",
       "<table border=\"1\" class=\"dataframe\">\n",
       "  <thead>\n",
       "    <tr style=\"text-align: right;\">\n",
       "      <th></th>\n",
       "      <th>POP</th>\n",
       "      <th>CONST1</th>\n",
       "      <th>CONST2</th>\n",
       "      <th>CONST3</th>\n",
       "      <th>CONST4</th>\n",
       "      <th>CONST5</th>\n",
       "      <th>CONST6</th>\n",
       "    </tr>\n",
       "  </thead>\n",
       "  <tbody>\n",
       "    <tr>\n",
       "      <th>1</th>\n",
       "      <td>48</td>\n",
       "      <td>28</td>\n",
       "      <td>38</td>\n",
       "      <td>27</td>\n",
       "      <td>5</td>\n",
       "      <td>33</td>\n",
       "      <td>13</td>\n",
       "    </tr>\n",
       "    <tr>\n",
       "      <th>2</th>\n",
       "      <td>52</td>\n",
       "      <td>37</td>\n",
       "      <td>37</td>\n",
       "      <td>38</td>\n",
       "      <td>5</td>\n",
       "      <td>47</td>\n",
       "      <td>17</td>\n",
       "    </tr>\n",
       "  </tbody>\n",
       "</table>\n",
       "</div>"
      ],
      "text/plain": [
       "   POP  CONST1  CONST2  CONST3  CONST4  CONST5  CONST6\n",
       "1   48      28      38      27       5      33      13\n",
       "2   52      37      37      38       5      47      17"
      ]
     },
     "execution_count": 14,
     "metadata": {},
     "output_type": "execute_result"
    }
   ],
   "source": [
    "ctrt = ctrt.groupby(ctrt.index).aggregate(\"sum\")\n",
    "ctrt"
   ]
  },
  {
   "cell_type": "markdown",
   "metadata": {},
   "source": [
    "## Aggregate SE's"
   ]
  },
  {
   "cell_type": "code",
   "execution_count": 15,
   "metadata": {
    "execution": {
     "iopub.execute_input": "2025-02-10T03:38:18.885909Z",
     "iopub.status.busy": "2025-02-10T03:38:18.885825Z",
     "iopub.status.idle": "2025-02-10T03:38:18.891730Z",
     "shell.execute_reply": "2025-02-10T03:38:18.891466Z",
     "shell.execute_reply.started": "2025-02-10T03:38:18.885901Z"
    }
   },
   "outputs": [
    {
     "data": {
      "text/html": [
       "<div>\n",
       "<style scoped>\n",
       "    .dataframe tbody tr th:only-of-type {\n",
       "        vertical-align: middle;\n",
       "    }\n",
       "\n",
       "    .dataframe tbody tr th {\n",
       "        vertical-align: top;\n",
       "    }\n",
       "\n",
       "    .dataframe thead th {\n",
       "        text-align: right;\n",
       "    }\n",
       "</style>\n",
       "<table border=\"1\" class=\"dataframe\">\n",
       "  <thead>\n",
       "    <tr style=\"text-align: right;\">\n",
       "      <th></th>\n",
       "      <th>POPs</th>\n",
       "      <th>CONST1s</th>\n",
       "      <th>CONST2s</th>\n",
       "      <th>CONST3s</th>\n",
       "      <th>CONST4s</th>\n",
       "      <th>CONST5s</th>\n",
       "      <th>CONST6s</th>\n",
       "    </tr>\n",
       "  </thead>\n",
       "  <tbody>\n",
       "    <tr>\n",
       "      <th>1</th>\n",
       "      <td>2.828427</td>\n",
       "      <td>2.304886</td>\n",
       "      <td>3.181981</td>\n",
       "      <td>3.605551</td>\n",
       "      <td>0.707107</td>\n",
       "      <td>3.889087</td>\n",
       "      <td>1.414214</td>\n",
       "    </tr>\n",
       "    <tr>\n",
       "      <th>2</th>\n",
       "      <td>2.828427</td>\n",
       "      <td>2.474874</td>\n",
       "      <td>3.181981</td>\n",
       "      <td>2.828427</td>\n",
       "      <td>0.707107</td>\n",
       "      <td>3.889087</td>\n",
       "      <td>1.414214</td>\n",
       "    </tr>\n",
       "  </tbody>\n",
       "</table>\n",
       "</div>"
      ],
      "text/plain": [
       "       POPs   CONST1s   CONST2s   CONST3s   CONST4s   CONST5s   CONST6s\n",
       "1  2.828427  2.304886  3.181981  3.605551  0.707107  3.889087  1.414214\n",
       "2  2.828427  2.474874  3.181981  2.828427  0.707107  3.889087  1.414214"
      ]
     },
     "execution_count": 15,
     "metadata": {},
     "output_type": "execute_result"
    }
   ],
   "source": [
    "strt = strt.groupby(strt.index).aggregate(lambda x: np.sqrt(np.sum(np.square(x))))\n",
    "strt"
   ]
  },
  {
   "cell_type": "markdown",
   "metadata": {},
   "source": [
    "## Create P-MEDM object & solve"
   ]
  },
  {
   "cell_type": "code",
   "execution_count": 16,
   "metadata": {
    "execution": {
     "iopub.execute_input": "2025-02-10T03:38:18.892246Z",
     "iopub.status.busy": "2025-02-10T03:38:18.892151Z",
     "iopub.status.idle": "2025-02-10T03:38:18.981846Z",
     "shell.execute_reply": "2025-02-10T03:38:18.981555Z",
     "shell.execute_reply.started": "2025-02-10T03:38:18.892238Z"
    }
   },
   "outputs": [
    {
     "name": "stdout",
     "output_type": "stream",
     "text": [
      "Using Sparse Hessian Preconditioner\n",
      "Initializing PMEDM solver\n",
      "Starting Trust Region Algorithm\n",
      " iter          fun     ||grad|| ||try step||      act red     pred red     radius inner iter\n",
      "    0            0     0.229728            1      1.53947      1.54141          1           0\n",
      "    1     -1.53947     0.125299      1.04989      0.54656     0.542251          2          12\n",
      "    2     -2.08603    0.0237954      0.20596   0.00612304   0.00502324          4          15\n",
      "    3     -2.09216   0.00706137     0.146657   0.00124603   0.00109171          8          16\n",
      "    4      -2.0934   0.00142816     0.045663  7.04901e-05   6.8018e-05         16          16\n",
      "    5     -2.09347  7.67754e-05   0.00272249  2.17343e-07  2.16905e-07         32          16\n",
      "    6     -2.09347  2.32307e-07  8.27217e-06  1.98996e-12  1.99051e-12         64          16\n",
      "    7     -2.09347  2.12434e-12           -            -            -          -           - \n",
      "Solver ended with convergence\n"
     ]
    }
   ],
   "source": [
    "pmd = pmedm_legacy.PMEDM(\n",
    "    2019,\n",
    "    wt,\n",
    "    cind,\n",
    "    cbg,\n",
    "    ctrt,\n",
    "    sbg,\n",
    "    strt,\n",
    ")\n",
    "pmd.solve()"
   ]
  },
  {
   "cell_type": "markdown",
   "metadata": {},
   "source": [
    "## Inspect results"
   ]
  },
  {
   "cell_type": "code",
   "execution_count": 17,
   "metadata": {
    "execution": {
     "iopub.execute_input": "2025-02-10T03:38:18.982285Z",
     "iopub.status.busy": "2025-02-10T03:38:18.982203Z",
     "iopub.status.idle": "2025-02-10T03:38:18.985020Z",
     "shell.execute_reply": "2025-02-10T03:38:18.984764Z",
     "shell.execute_reply.started": "2025-02-10T03:38:18.982278Z"
    }
   },
   "outputs": [
    {
     "data": {
      "text/plain": [
       "{'almat': array([[ 9.88971079,  9.48999564, 16.21106451, 14.41895525],\n",
       "        [ 2.261975  ,  5.85162672,  4.97978835,  6.90333539],\n",
       "        [ 3.07611053,  2.01920552,  2.83472006,  2.0695863 ],\n",
       "        [ 2.53937691,  1.32763304,  0.34660813,  0.76989277],\n",
       "        [ 9.40498296,  1.56332278,  3.94898796,  0.09312139]]),\n",
       " 'serialno': array(['0', '1', '2', '3', '4'], dtype='<U1'),\n",
       " 'geoid': array(['10', '11', '20', '21'], dtype='<U2')}"
      ]
     },
     "execution_count": 17,
     "metadata": {},
     "output_type": "execute_result"
    }
   ],
   "source": [
    "pmd.pmedm_res"
   ]
  },
  {
   "cell_type": "markdown",
   "metadata": {},
   "source": [
    "## Perform diagnostics"
   ]
  },
  {
   "cell_type": "code",
   "execution_count": 18,
   "metadata": {
    "execution": {
     "iopub.execute_input": "2025-02-10T03:38:18.985472Z",
     "iopub.status.busy": "2025-02-10T03:38:18.985390Z",
     "iopub.status.idle": "2025-02-10T03:38:18.991865Z",
     "shell.execute_reply": "2025-02-10T03:38:18.991670Z",
     "shell.execute_reply.started": "2025-02-10T03:38:18.985464Z"
    }
   },
   "outputs": [
    {
     "data": {
      "text/plain": [
       "{'Ycomp':    variable  acs      pmedm       err      moe  in_moe\n",
       " 10      POP   28  27.172156  0.827844  3.29000    True\n",
       " 11      POP   20  20.251784  0.251784  3.29000    True\n",
       " 20      POP   30  28.321169  1.678831  3.29000    True\n",
       " 21      POP   22  24.254891  2.254891  3.29000    True\n",
       " 10   CONST1   15  15.505198  0.505198  2.87875    True\n",
       " 11   CONST1   13  12.836834  0.163166  2.46750    True\n",
       " 20   CONST1   18  19.392393  1.392393  2.87875    True\n",
       " 21   CONST1   19  17.258434  1.741566  2.87875    True\n",
       " 10   CONST2   25  22.370804  2.629196  3.70125    True\n",
       " 11   CONST2   13  13.072524  0.072524  3.70125    True\n",
       " 20   CONST2   22  22.994773  0.994773  3.70125    True\n",
       " 21   CONST2   15  16.581663  1.581663  3.70125    True\n",
       " 10   CONST3   15  19.294694  4.294694  4.93500    True\n",
       " 11   CONST3   12  11.053318  0.946682  3.29000    True\n",
       " 20   CONST3   20  20.160052  0.160052  3.29000    True\n",
       " 21   CONST3   18  14.512077  3.487923  3.29000   False\n",
       " 10   CONST4    3   3.076111  0.076111  0.82250    True\n",
       " 11   CONST4    2   2.019206  0.019206  0.82250    True\n",
       " 20   CONST4    3   2.834720  0.165280  0.82250    True\n",
       " 21   CONST4    2   2.069586  0.069586  0.82250    True\n",
       " 10   CONST5   16  15.227796  0.772204  4.52375    True\n",
       " 11   CONST5   17  17.360828  0.360828  4.52375    True\n",
       " 20   CONST5   27  24.025573  2.974427  4.52375    True\n",
       " 21   CONST5   20  23.391877  3.391877  4.52375    True\n",
       " 10   CONST6    5   5.338086  0.338086  1.64500    True\n",
       " 11   CONST6    8   7.870832  0.129168  1.64500    True\n",
       " 20   CONST6    7   7.814508  0.814508  1.64500    True\n",
       " 21   CONST6   10   8.972922  1.027078  1.64500    True,\n",
       " 'moe_fit_rate': np.float64(0.9642857142857143)}"
      ]
     },
     "execution_count": 18,
     "metadata": {},
     "output_type": "execute_result"
    }
   ],
   "source": [
    "pmedm_legacy.diagnostics.moe_fit_rate(cind, cbg, sbg, pmd.pmedm_res[\"almat\"])"
   ]
  }
 ],
 "metadata": {
  "kernelspec": {
   "display_name": "Python 3 (ipykernel)",
   "language": "python",
   "name": "python3"
  },
  "language_info": {
   "codemirror_mode": {
    "name": "ipython",
    "version": 3
   },
   "file_extension": ".py",
   "mimetype": "text/x-python",
   "name": "python",
   "nbconvert_exporter": "python",
   "pygments_lexer": "ipython3",
   "version": "3.12.9"
  }
 },
 "nbformat": 4,
 "nbformat_minor": 4
}
