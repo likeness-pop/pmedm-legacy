{
 "cells": [
  {
   "cell_type": "markdown",
   "id": "128892d2",
   "metadata": {},
   "source": [
    "# Livelike-PMEDMrcpp Bridge"
   ]
  },
  {
   "cell_type": "code",
   "execution_count": 1,
   "id": "268350eb-1977-43c9-9404-b15d087611e9",
   "metadata": {
    "execution": {
     "iopub.execute_input": "2025-02-10T03:20:10.895016Z",
     "iopub.status.busy": "2025-02-10T03:20:10.894495Z",
     "iopub.status.idle": "2025-02-10T03:20:10.922873Z",
     "shell.execute_reply": "2025-02-10T03:20:10.922434Z",
     "shell.execute_reply.started": "2025-02-10T03:20:10.894969Z"
    }
   },
   "outputs": [
    {
     "name": "stdout",
     "output_type": "stream",
     "text": [
      "Last updated: 2025-02-09T22:20:10.911559-05:00\n",
      "\n",
      "Python implementation: CPython\n",
      "Python version       : 3.12.8\n",
      "IPython version      : 8.32.0\n",
      "\n",
      "Compiler    : Clang 18.1.8 \n",
      "OS          : Darwin\n",
      "Release     : 24.3.0\n",
      "Machine     : arm64\n",
      "Processor   : arm\n",
      "CPU cores   : 16\n",
      "Architecture: 64bit\n",
      "\n"
     ]
    }
   ],
   "source": [
    "%load_ext watermark\n",
    "%watermark"
   ]
  },
  {
   "cell_type": "code",
   "execution_count": 2,
   "id": "ed755fdc-d75e-40c7-848a-51b65041f0c3",
   "metadata": {
    "ExecuteTime": {
     "end_time": "2023-01-05T17:13:01.070794Z",
     "start_time": "2023-01-05T17:12:52.209942Z"
    },
    "execution": {
     "iopub.execute_input": "2025-02-10T03:20:10.923735Z",
     "iopub.status.busy": "2025-02-10T03:20:10.923555Z",
     "iopub.status.idle": "2025-02-10T03:20:13.281783Z",
     "shell.execute_reply": "2025-02-10T03:20:13.281455Z",
     "shell.execute_reply.started": "2025-02-10T03:20:10.923714Z"
    }
   },
   "outputs": [
    {
     "name": "stderr",
     "output_type": "stream",
     "text": [
      "/Users/41q/miniforge3/envs/py312_pmedm_legacy/lib/python3.12/site-packages/likeness_vitals/__init__.py:12: FutureWarning: The ``likeness-vitals`` package is transitioning to a modular API for a cleaner top-level namespace. Classes, functions, and attributes that are currently available in the top-level will only be available within their home modules. Both the current and the updated API will be in place for at least two minor releases following the inclusion of this warning. The release at the time of this warning inclusion was ``v1.3.0``, so the current API will be stable until ``v1.5.0`` at the soonest, and the ``v2.0.0`` release will be the absolute deadline. See [https://code.ornl.gov/likeness/likeness-vitals/-/issues/32] for details on how to update dependant packages.\n",
      "  warnings.warn(\n"
     ]
    },
    {
     "name": "stdout",
     "output_type": "stream",
     "text": [
      "Watermark: 2.5.0\n",
      "\n",
      "likeness_vitals: 1.4.2\n",
      "livelike       : 1.4.4\n",
      "pmedm_legacy   : 0.0.6.dev17+g3f6adee\n",
      "\n"
     ]
    }
   ],
   "source": [
    "import pathlib\n",
    "\n",
    "import likeness_vitals\n",
    "import livelike\n",
    "\n",
    "import pmedm_legacy\n",
    "\n",
    "%watermark -w\n",
    "%watermark -iv"
   ]
  },
  {
   "cell_type": "markdown",
   "id": "eeb83d11-9489-4adf-abb5-ebf0e65097a8",
   "metadata": {},
   "source": [
    "-------------------\n",
    "\n",
    "## Get census API key"
   ]
  },
  {
   "cell_type": "code",
   "execution_count": 3,
   "id": "c581e811",
   "metadata": {
    "ExecuteTime": {
     "end_time": "2023-01-05T17:13:01.235356Z",
     "start_time": "2023-01-05T17:13:01.230720Z"
    },
    "execution": {
     "iopub.execute_input": "2025-02-10T03:20:13.282490Z",
     "iopub.status.busy": "2025-02-10T03:20:13.282303Z",
     "iopub.status.idle": "2025-02-10T03:20:13.285098Z",
     "shell.execute_reply": "2025-02-10T03:20:13.284855Z",
     "shell.execute_reply.started": "2025-02-10T03:20:13.282478Z"
    }
   },
   "outputs": [],
   "source": [
    "key = likeness_vitals.get_censusapikey(pathlib.Path(\"..\", \"..\", \"livelike\", \"\"))"
   ]
  },
  {
   "cell_type": "markdown",
   "id": "902cf8aa",
   "metadata": {},
   "source": [
    "---------------\n",
    "## Create PUMA class (`livelike.puma`)\n",
    "### target PUMA - Knoxville City, TN"
   ]
  },
  {
   "cell_type": "code",
   "execution_count": 4,
   "id": "19da8dca",
   "metadata": {
    "ExecuteTime": {
     "end_time": "2023-01-05T17:13:01.240867Z",
     "start_time": "2023-01-05T17:13:01.237771Z"
    },
    "execution": {
     "iopub.execute_input": "2025-02-10T03:20:13.285569Z",
     "iopub.status.busy": "2025-02-10T03:20:13.285422Z",
     "iopub.status.idle": "2025-02-10T03:20:14.063968Z",
     "shell.execute_reply": "2025-02-10T03:20:14.063734Z",
     "shell.execute_reply.started": "2025-02-10T03:20:13.285563Z"
    }
   },
   "outputs": [],
   "source": [
    "p = \"4701603\"\n",
    "pup = livelike.puma(p, cache=True, censusapikey=key)"
   ]
  },
  {
   "cell_type": "markdown",
   "id": "33a40a08",
   "metadata": {},
   "source": [
    "---------------------------\n",
    "## Create a P-MEDM instance and solve"
   ]
  },
  {
   "cell_type": "code",
   "execution_count": 5,
   "id": "33666e11",
   "metadata": {
    "ExecuteTime": {
     "end_time": "2023-01-05T17:13:25.563016Z",
     "start_time": "2023-01-05T17:13:25.554718Z"
    },
    "execution": {
     "iopub.execute_input": "2025-02-10T03:20:14.064505Z",
     "iopub.status.busy": "2025-02-10T03:20:14.064389Z",
     "iopub.status.idle": "2025-02-10T03:23:35.597878Z",
     "shell.execute_reply": "2025-02-10T03:23:35.597628Z",
     "shell.execute_reply.started": "2025-02-10T03:20:14.064497Z"
    }
   },
   "outputs": [
    {
     "name": "stdout",
     "output_type": "stream",
     "text": [
      "Using Sparse Hessian Preconditioner\n",
      "Initializing PMEDM solver\n",
      "Starting Trust Region Algorithm\n",
      " iter          fun     ||grad|| ||try step||      act red     pred red     radius inner iter\n",
      "    0 -8.12572e-13     0.249819            1      -10.692      1.40111          1           0\n",
      "    1 -8.12572e-13     0.249819         0.25     0.439019     0.444027       0.25           0\n",
      "    2    -0.439019     0.222566          0.5     0.327436     0.544532        0.5           1\n",
      "    3    -0.766454      3.14012          0.5    0.0454369     0.175763        0.5          12\n",
      "    4    -0.811891      7.55848          0.5   -0.0928623     0.349079        0.5          22\n",
      "    5    -0.811891      7.55848          nan          nan          nan      0.125          14\n",
      "    6    -0.811891      7.55848          nan          nan          nan    0.03125          10\n",
      "    7    -0.811891      7.55848          nan          nan          nan  0.0078125           9\n",
      "    8    -0.811891      7.55848          nan          nan          nan 0.00195312           8\n",
      "    9    -0.811891      7.55848          nan          nan          nan 0.000488281           5\n",
      "   10    -0.811891      7.55848          nan          nan          nan 0.00012207           3\n",
      "   11    -0.811891      7.55848          nan          nan          nan 3.05176e-05           1\n",
      "   12    -0.811891      7.55848  7.62939e-06  0.000440444  0.000440444 7.62939e-06           0\n",
      "   13    -0.812332      7.55009  1.52588e-05  0.000878893  0.000878892 1.52588e-05           0\n",
      "   14    -0.813211      7.53334          nan          nan          nan 3.05176e-05           1\n",
      "   15    -0.813211      7.53334  7.62939e-06  0.000438451  0.000438451 7.62939e-06           0\n",
      "   16    -0.813649      7.52499  1.52588e-05  0.000874918  0.000874917 1.52588e-05           0\n",
      "   17    -0.814524      7.50832          nan          nan          nan 3.05176e-05           1\n",
      "   18    -0.814524      7.50832  7.62939e-06  0.000436469  0.000436469 7.62939e-06           0\n",
      "   19     -0.81496      7.50001  1.52588e-05  0.000870964  0.000870962 1.52588e-05           0\n",
      "Using Sparse Hessian Preconditioner\n",
      "   20    -0.815831      7.48341   0.00155166    0.0016613    0.0016613 0.00155166           0\n",
      "   21    -0.817493      7.47258   0.00310331   0.00331537   0.00331537 0.00310331           0\n",
      "   22    -0.820808       7.4509   0.00620662   0.00660182   0.00660183 0.00620662           0\n",
      "   23     -0.82741      7.40754    0.0124132    0.0130879    0.0130879  0.0124132           0\n",
      "   24    -0.840498      7.32081    0.0248265    0.0257116    0.0257119  0.0248265           0\n",
      "   25    -0.866209      7.14738     0.049653    0.0495588    0.0495617   0.049653           0\n",
      "   26    -0.915768      6.80116    0.0993059    0.0916051    0.0916256  0.0993059           0\n",
      "   27     -1.00737      6.11565     0.198612     0.152956     0.153027   0.198612           0\n",
      "   28     -1.16033        4.805     0.397224     0.193394     0.190237   0.397224           0\n",
      "   29     -1.35372      2.64506     0.614499     0.126082     0.106086   0.794448          30\n",
      "   30      -1.4798      0.88692     0.489819    0.0285149    0.0230824     1.5889          45\n",
      "   31     -1.50832     0.311438     0.464081   0.00875218   0.00699239    3.17779          67\n",
      "   32     -1.51707     0.111488     0.450891   0.00295954   0.00235686    6.35558          92\n",
      "   33     -1.52003    0.0400534     0.440122    0.0010228  0.000813371    12.7112         140\n",
      "   34     -1.52105    0.0142671     0.436748  0.000358759  0.000284485    25.4223         209\n",
      "   35     -1.52141   0.00502155       0.4671  0.000137443  0.000107134    50.8446         269\n",
      "   36     -1.52155   0.00186939      0.56975  6.62296e-05  5.02064e-05    101.689         258\n",
      "Exited at end.\n",
      "   37     -1.52162  0.000802131     0.871865  4.53804e-05  3.30287e-05    203.379         300\n",
      "Exited at end.\n",
      "   38     -1.52166  0.000391381      2.07035  4.80253e-05  3.61795e-05    406.757         300\n",
      "Exited at end.\n",
      "   39     -1.52171  0.000151586      1.79538  1.28673e-05  1.23054e-05    813.514         300\n",
      "Using Sparse Hessian Preconditioner\n",
      "   40     -1.52172  2.40332e-05           -            -            -          -           - \n",
      "Solver ended with convergence\n"
     ]
    }
   ],
   "source": [
    "pmd = pmedm_legacy.PMEDM(\n",
    "    pup.year,\n",
    "    pup.wt,\n",
    "    pup.est_ind,\n",
    "    pup.est_g2,\n",
    "    pup.est_g1,\n",
    "    pup.se_g2,\n",
    "    pup.se_g1,\n",
    "    tr_iter=300,\n",
    "    tr_tol=1e-4,\n",
    ")\n",
    "pmd.solve()"
   ]
  },
  {
   "cell_type": "markdown",
   "id": "be7651d8",
   "metadata": {},
   "source": [
    "----------------------------\n",
    "## Population Synthesis"
   ]
  },
  {
   "cell_type": "code",
   "execution_count": 6,
   "id": "d1184871",
   "metadata": {
    "ExecuteTime": {
     "end_time": "2023-01-05T17:16:39.644208Z",
     "start_time": "2023-01-05T17:16:31.229064Z"
    },
    "execution": {
     "iopub.execute_input": "2025-02-10T03:23:35.599308Z",
     "iopub.status.busy": "2025-02-10T03:23:35.599224Z",
     "iopub.status.idle": "2025-02-10T03:23:36.002484Z",
     "shell.execute_reply": "2025-02-10T03:23:36.002237Z",
     "shell.execute_reply.started": "2025-02-10T03:23:35.599301Z"
    }
   },
   "outputs": [
    {
     "data": {
      "text/html": [
       "<div>\n",
       "<style scoped>\n",
       "    .dataframe tbody tr th:only-of-type {\n",
       "        vertical-align: middle;\n",
       "    }\n",
       "\n",
       "    .dataframe tbody tr th {\n",
       "        vertical-align: top;\n",
       "    }\n",
       "\n",
       "    .dataframe thead th {\n",
       "        text-align: right;\n",
       "    }\n",
       "</style>\n",
       "<table border=\"1\" class=\"dataframe\">\n",
       "  <thead>\n",
       "    <tr style=\"text-align: right;\">\n",
       "      <th></th>\n",
       "      <th>sim</th>\n",
       "      <th>geoid</th>\n",
       "      <th>count</th>\n",
       "    </tr>\n",
       "    <tr>\n",
       "      <th>h_id</th>\n",
       "      <th></th>\n",
       "      <th></th>\n",
       "      <th></th>\n",
       "    </tr>\n",
       "  </thead>\n",
       "  <tbody>\n",
       "    <tr>\n",
       "      <th>2015000013399</th>\n",
       "      <td>0</td>\n",
       "      <td>470930001001</td>\n",
       "      <td>1</td>\n",
       "    </tr>\n",
       "    <tr>\n",
       "      <th>2015000016188</th>\n",
       "      <td>0</td>\n",
       "      <td>470930001001</td>\n",
       "      <td>1</td>\n",
       "    </tr>\n",
       "    <tr>\n",
       "      <th>2015000020218</th>\n",
       "      <td>0</td>\n",
       "      <td>470930001001</td>\n",
       "      <td>2</td>\n",
       "    </tr>\n",
       "    <tr>\n",
       "      <th>2015000039553</th>\n",
       "      <td>0</td>\n",
       "      <td>470930001001</td>\n",
       "      <td>1</td>\n",
       "    </tr>\n",
       "    <tr>\n",
       "      <th>2015000048278</th>\n",
       "      <td>0</td>\n",
       "      <td>470930001001</td>\n",
       "      <td>2</td>\n",
       "    </tr>\n",
       "    <tr>\n",
       "      <th>...</th>\n",
       "      <td>...</td>\n",
       "      <td>...</td>\n",
       "      <td>...</td>\n",
       "    </tr>\n",
       "    <tr>\n",
       "      <th>2019HU1295854</th>\n",
       "      <td>0</td>\n",
       "      <td>470930071003</td>\n",
       "      <td>1</td>\n",
       "    </tr>\n",
       "    <tr>\n",
       "      <th>2019HU1303896</th>\n",
       "      <td>0</td>\n",
       "      <td>470930071003</td>\n",
       "      <td>2</td>\n",
       "    </tr>\n",
       "    <tr>\n",
       "      <th>2019HU1362049</th>\n",
       "      <td>0</td>\n",
       "      <td>470930071003</td>\n",
       "      <td>1</td>\n",
       "    </tr>\n",
       "    <tr>\n",
       "      <th>2019HU1374161</th>\n",
       "      <td>0</td>\n",
       "      <td>470930071003</td>\n",
       "      <td>1</td>\n",
       "    </tr>\n",
       "    <tr>\n",
       "      <th>2019HU1411072</th>\n",
       "      <td>0</td>\n",
       "      <td>470930071003</td>\n",
       "      <td>1</td>\n",
       "    </tr>\n",
       "  </tbody>\n",
       "</table>\n",
       "<p>64835 rows × 3 columns</p>\n",
       "</div>"
      ],
      "text/plain": [
       "               sim         geoid  count\n",
       "h_id                                   \n",
       "2015000013399    0  470930001001      1\n",
       "2015000016188    0  470930001001      1\n",
       "2015000020218    0  470930001001      2\n",
       "2015000039553    0  470930001001      1\n",
       "2015000048278    0  470930001001      2\n",
       "...            ...           ...    ...\n",
       "2019HU1295854    0  470930071003      1\n",
       "2019HU1303896    0  470930071003      2\n",
       "2019HU1362049    0  470930071003      1\n",
       "2019HU1374161    0  470930071003      1\n",
       "2019HU1411072    0  470930071003      1\n",
       "\n",
       "[64835 rows x 3 columns]"
      ]
     },
     "execution_count": 6,
     "metadata": {},
     "output_type": "execute_result"
    }
   ],
   "source": [
    "syp = livelike.homesim.synthesize(\n",
    "    pmd.pmedm_res[\"almat\"],\n",
    "    pup.est_ind,\n",
    "    pup.est_g2,\n",
    "    pup.sporder,\n",
    "    nsim=1,\n",
    ")\n",
    "syp"
   ]
  },
  {
   "cell_type": "markdown",
   "id": "5262c953",
   "metadata": {},
   "source": [
    "-------------------------------\n",
    "## Diagnostics"
   ]
  },
  {
   "cell_type": "code",
   "execution_count": 7,
   "id": "8ff6adeb",
   "metadata": {
    "ExecuteTime": {
     "end_time": "2023-01-05T17:16:39.889063Z",
     "start_time": "2023-01-05T17:16:39.648710Z"
    },
    "execution": {
     "iopub.execute_input": "2025-02-10T03:23:36.002908Z",
     "iopub.status.busy": "2025-02-10T03:23:36.002844Z",
     "iopub.status.idle": "2025-02-10T03:23:36.154238Z",
     "shell.execute_reply": "2025-02-10T03:23:36.153993Z",
     "shell.execute_reply.started": "2025-02-10T03:23:36.002901Z"
    }
   },
   "outputs": [],
   "source": [
    "dgs = pmedm_legacy.moe_fit_rate(\n",
    "    pup.est_ind,\n",
    "    pup.est_g2,\n",
    "    pup.se_g2,\n",
    "    pmd.pmedm_res[\"almat\"],\n",
    ")"
   ]
  },
  {
   "cell_type": "code",
   "execution_count": 8,
   "id": "faa89574",
   "metadata": {
    "ExecuteTime": {
     "end_time": "2023-01-05T17:16:39.906078Z",
     "start_time": "2023-01-05T17:16:39.891893Z"
    },
    "execution": {
     "iopub.execute_input": "2025-02-10T03:23:36.154660Z",
     "iopub.status.busy": "2025-02-10T03:23:36.154595Z",
     "iopub.status.idle": "2025-02-10T03:23:36.158844Z",
     "shell.execute_reply": "2025-02-10T03:23:36.158625Z",
     "shell.execute_reply.started": "2025-02-10T03:23:36.154653Z"
    }
   },
   "outputs": [
    {
     "data": {
      "text/html": [
       "<div>\n",
       "<style scoped>\n",
       "    .dataframe tbody tr th:only-of-type {\n",
       "        vertical-align: middle;\n",
       "    }\n",
       "\n",
       "    .dataframe tbody tr th {\n",
       "        vertical-align: top;\n",
       "    }\n",
       "\n",
       "    .dataframe thead th {\n",
       "        text-align: right;\n",
       "    }\n",
       "</style>\n",
       "<table border=\"1\" class=\"dataframe\">\n",
       "  <thead>\n",
       "    <tr style=\"text-align: right;\">\n",
       "      <th></th>\n",
       "      <th>constraint</th>\n",
       "      <th>acs</th>\n",
       "      <th>pmedm</th>\n",
       "      <th>err</th>\n",
       "      <th>moe</th>\n",
       "      <th>in_moe</th>\n",
       "    </tr>\n",
       "  </thead>\n",
       "  <tbody>\n",
       "    <tr>\n",
       "      <th>470930001001</th>\n",
       "      <td>population</td>\n",
       "      <td>2463</td>\n",
       "      <td>2.482511e+03</td>\n",
       "      <td>1.951072e+01</td>\n",
       "      <td>227.0</td>\n",
       "      <td>True</td>\n",
       "    </tr>\n",
       "    <tr>\n",
       "      <th>470930008001</th>\n",
       "      <td>population</td>\n",
       "      <td>1697</td>\n",
       "      <td>1.731241e+03</td>\n",
       "      <td>3.424083e+01</td>\n",
       "      <td>334.0</td>\n",
       "      <td>True</td>\n",
       "    </tr>\n",
       "    <tr>\n",
       "      <th>470930008002</th>\n",
       "      <td>population</td>\n",
       "      <td>574</td>\n",
       "      <td>6.015439e+02</td>\n",
       "      <td>2.754393e+01</td>\n",
       "      <td>235.0</td>\n",
       "      <td>True</td>\n",
       "    </tr>\n",
       "    <tr>\n",
       "      <th>470930008003</th>\n",
       "      <td>population</td>\n",
       "      <td>1336</td>\n",
       "      <td>1.379976e+03</td>\n",
       "      <td>4.397572e+01</td>\n",
       "      <td>448.0</td>\n",
       "      <td>True</td>\n",
       "    </tr>\n",
       "    <tr>\n",
       "      <th>470930009011</th>\n",
       "      <td>population</td>\n",
       "      <td>1965</td>\n",
       "      <td>1.897626e+03</td>\n",
       "      <td>6.737404e+01</td>\n",
       "      <td>299.0</td>\n",
       "      <td>True</td>\n",
       "    </tr>\n",
       "    <tr>\n",
       "      <th>...</th>\n",
       "      <td>...</td>\n",
       "      <td>...</td>\n",
       "      <td>...</td>\n",
       "      <td>...</td>\n",
       "      <td>...</td>\n",
       "      <td>...</td>\n",
       "    </tr>\n",
       "    <tr>\n",
       "      <th>470930070001</th>\n",
       "      <td>hht_nonfam_hhsize_7pm</td>\n",
       "      <td>0</td>\n",
       "      <td>9.719687e-10</td>\n",
       "      <td>9.719687e-10</td>\n",
       "      <td>12.0</td>\n",
       "      <td>True</td>\n",
       "    </tr>\n",
       "    <tr>\n",
       "      <th>470930070002</th>\n",
       "      <td>hht_nonfam_hhsize_7pm</td>\n",
       "      <td>0</td>\n",
       "      <td>5.536147e-09</td>\n",
       "      <td>5.536147e-09</td>\n",
       "      <td>12.0</td>\n",
       "      <td>True</td>\n",
       "    </tr>\n",
       "    <tr>\n",
       "      <th>470930071001</th>\n",
       "      <td>hht_nonfam_hhsize_7pm</td>\n",
       "      <td>0</td>\n",
       "      <td>1.202251e-18</td>\n",
       "      <td>1.202251e-18</td>\n",
       "      <td>12.0</td>\n",
       "      <td>True</td>\n",
       "    </tr>\n",
       "    <tr>\n",
       "      <th>470930071002</th>\n",
       "      <td>hht_nonfam_hhsize_7pm</td>\n",
       "      <td>0</td>\n",
       "      <td>7.657787e-19</td>\n",
       "      <td>7.657787e-19</td>\n",
       "      <td>12.0</td>\n",
       "      <td>True</td>\n",
       "    </tr>\n",
       "    <tr>\n",
       "      <th>470930071003</th>\n",
       "      <td>hht_nonfam_hhsize_7pm</td>\n",
       "      <td>0</td>\n",
       "      <td>7.439046e-18</td>\n",
       "      <td>7.439046e-18</td>\n",
       "      <td>12.0</td>\n",
       "      <td>True</td>\n",
       "    </tr>\n",
       "  </tbody>\n",
       "</table>\n",
       "<p>22035 rows × 6 columns</p>\n",
       "</div>"
      ],
      "text/plain": [
       "                         constraint   acs         pmedm           err    moe  \\\n",
       "470930001001             population  2463  2.482511e+03  1.951072e+01  227.0   \n",
       "470930008001             population  1697  1.731241e+03  3.424083e+01  334.0   \n",
       "470930008002             population   574  6.015439e+02  2.754393e+01  235.0   \n",
       "470930008003             population  1336  1.379976e+03  4.397572e+01  448.0   \n",
       "470930009011             population  1965  1.897626e+03  6.737404e+01  299.0   \n",
       "...                             ...   ...           ...           ...    ...   \n",
       "470930070001  hht_nonfam_hhsize_7pm     0  9.719687e-10  9.719687e-10   12.0   \n",
       "470930070002  hht_nonfam_hhsize_7pm     0  5.536147e-09  5.536147e-09   12.0   \n",
       "470930071001  hht_nonfam_hhsize_7pm     0  1.202251e-18  1.202251e-18   12.0   \n",
       "470930071002  hht_nonfam_hhsize_7pm     0  7.657787e-19  7.657787e-19   12.0   \n",
       "470930071003  hht_nonfam_hhsize_7pm     0  7.439046e-18  7.439046e-18   12.0   \n",
       "\n",
       "              in_moe  \n",
       "470930001001    True  \n",
       "470930008001    True  \n",
       "470930008002    True  \n",
       "470930008003    True  \n",
       "470930009011    True  \n",
       "...              ...  \n",
       "470930070001    True  \n",
       "470930070002    True  \n",
       "470930071001    True  \n",
       "470930071002    True  \n",
       "470930071003    True  \n",
       "\n",
       "[22035 rows x 6 columns]"
      ]
     },
     "execution_count": 8,
     "metadata": {},
     "output_type": "execute_result"
    }
   ],
   "source": [
    "dgs[\"Ycomp\"]"
   ]
  },
  {
   "cell_type": "code",
   "execution_count": 9,
   "id": "66516498-dd80-4378-8b63-da1091e05c0f",
   "metadata": {
    "ExecuteTime": {
     "end_time": "2023-01-05T17:16:39.915687Z",
     "start_time": "2023-01-05T17:16:39.909522Z"
    },
    "execution": {
     "iopub.execute_input": "2025-02-10T03:23:36.159228Z",
     "iopub.status.busy": "2025-02-10T03:23:36.159165Z",
     "iopub.status.idle": "2025-02-10T03:23:36.161096Z",
     "shell.execute_reply": "2025-02-10T03:23:36.160867Z",
     "shell.execute_reply.started": "2025-02-10T03:23:36.159221Z"
    }
   },
   "outputs": [
    {
     "data": {
      "text/plain": [
       "np.float64(0.9998638529611981)"
      ]
     },
     "execution_count": 9,
     "metadata": {},
     "output_type": "execute_result"
    }
   ],
   "source": [
    "dgs[\"moe_fit_rate\"]"
   ]
  },
  {
   "cell_type": "markdown",
   "id": "36cd0d30",
   "metadata": {},
   "source": [
    "### Check Population Totals"
   ]
  },
  {
   "cell_type": "code",
   "execution_count": 10,
   "id": "f7967fd6",
   "metadata": {
    "execution": {
     "iopub.execute_input": "2025-02-10T03:23:36.161483Z",
     "iopub.status.busy": "2025-02-10T03:23:36.161412Z",
     "iopub.status.idle": "2025-02-10T03:23:36.165503Z",
     "shell.execute_reply": "2025-02-10T03:23:36.165300Z",
     "shell.execute_reply.started": "2025-02-10T03:23:36.161476Z"
    }
   },
   "outputs": [],
   "source": [
    "Ycomps = dgs[\"Ycomp\"]\n",
    "ycp = Ycomps[Ycomps[\"constraint\"] == \"population\"]\n",
    "ych = Ycomps[Ycomps[\"constraint\"] == \"housing_units\"]"
   ]
  },
  {
   "cell_type": "code",
   "execution_count": 11,
   "id": "16d35268",
   "metadata": {
    "execution": {
     "iopub.execute_input": "2025-02-10T03:23:36.165888Z",
     "iopub.status.busy": "2025-02-10T03:23:36.165811Z",
     "iopub.status.idle": "2025-02-10T03:23:36.167658Z",
     "shell.execute_reply": "2025-02-10T03:23:36.167453Z",
     "shell.execute_reply.started": "2025-02-10T03:23:36.165882Z"
    }
   },
   "outputs": [
    {
     "data": {
      "text/plain": [
       "np.int64(178350)"
      ]
     },
     "execution_count": 11,
     "metadata": {},
     "output_type": "execute_result"
    }
   ],
   "source": [
    "acs_totalpop = ycp[\"acs\"].sum()\n",
    "acs_totalpop"
   ]
  },
  {
   "cell_type": "code",
   "execution_count": 12,
   "id": "26d53146",
   "metadata": {
    "execution": {
     "iopub.execute_input": "2025-02-10T03:23:36.168021Z",
     "iopub.status.busy": "2025-02-10T03:23:36.167958Z",
     "iopub.status.idle": "2025-02-10T03:23:36.169808Z",
     "shell.execute_reply": "2025-02-10T03:23:36.169600Z",
     "shell.execute_reply.started": "2025-02-10T03:23:36.168014Z"
    }
   },
   "outputs": [
    {
     "data": {
      "text/plain": [
       "np.float64(178786.87245946575)"
      ]
     },
     "execution_count": 12,
     "metadata": {},
     "output_type": "execute_result"
    }
   ],
   "source": [
    "pmedm_totalpop = ycp[\"pmedm\"].sum()\n",
    "pmedm_totalpop"
   ]
  },
  {
   "cell_type": "code",
   "execution_count": 13,
   "id": "a2a8800f",
   "metadata": {
    "execution": {
     "iopub.execute_input": "2025-02-10T03:23:36.170432Z",
     "iopub.status.busy": "2025-02-10T03:23:36.170329Z",
     "iopub.status.idle": "2025-02-10T03:23:36.172613Z",
     "shell.execute_reply": "2025-02-10T03:23:36.172382Z",
     "shell.execute_reply.started": "2025-02-10T03:23:36.170425Z"
    }
   },
   "outputs": [
    {
     "data": {
      "text/plain": [
       "np.float64(436.8724594657542)"
      ]
     },
     "execution_count": 13,
     "metadata": {},
     "output_type": "execute_result"
    }
   ],
   "source": [
    "# ACS 90% MOE 1327\n",
    "pmedm_totalpop - acs_totalpop"
   ]
  },
  {
   "cell_type": "code",
   "execution_count": 14,
   "id": "348fe4fc",
   "metadata": {
    "execution": {
     "iopub.execute_input": "2025-02-10T03:23:36.173017Z",
     "iopub.status.busy": "2025-02-10T03:23:36.172952Z",
     "iopub.status.idle": "2025-02-10T03:23:36.175464Z",
     "shell.execute_reply": "2025-02-10T03:23:36.175163Z",
     "shell.execute_reply.started": "2025-02-10T03:23:36.173010Z"
    }
   },
   "outputs": [
    {
     "data": {
      "text/plain": [
       "np.int64(87369)"
      ]
     },
     "execution_count": 14,
     "metadata": {},
     "output_type": "execute_result"
    }
   ],
   "source": [
    "acs_totalhu = ych[\"acs\"].sum()\n",
    "acs_totalhu"
   ]
  },
  {
   "cell_type": "code",
   "execution_count": 15,
   "id": "3a37b2ea",
   "metadata": {
    "execution": {
     "iopub.execute_input": "2025-02-10T03:23:36.175907Z",
     "iopub.status.busy": "2025-02-10T03:23:36.175799Z",
     "iopub.status.idle": "2025-02-10T03:23:36.177888Z",
     "shell.execute_reply": "2025-02-10T03:23:36.177659Z",
     "shell.execute_reply.started": "2025-02-10T03:23:36.175901Z"
    }
   },
   "outputs": [
    {
     "data": {
      "text/plain": [
       "np.float64(87765.49277844286)"
      ]
     },
     "execution_count": 15,
     "metadata": {},
     "output_type": "execute_result"
    }
   ],
   "source": [
    "pmedm_totalhu = ych[\"pmedm\"].sum()\n",
    "pmedm_totalhu"
   ]
  },
  {
   "cell_type": "code",
   "execution_count": 16,
   "id": "53f452ad",
   "metadata": {
    "execution": {
     "iopub.execute_input": "2025-02-10T03:23:36.178355Z",
     "iopub.status.busy": "2025-02-10T03:23:36.178245Z",
     "iopub.status.idle": "2025-02-10T03:23:36.180015Z",
     "shell.execute_reply": "2025-02-10T03:23:36.179825Z",
     "shell.execute_reply.started": "2025-02-10T03:23:36.178347Z"
    }
   },
   "outputs": [
    {
     "data": {
      "text/plain": [
       "np.float64(396.49277844285825)"
      ]
     },
     "execution_count": 16,
     "metadata": {},
     "output_type": "execute_result"
    }
   ],
   "source": [
    "# ACS 90% MOE 1004\n",
    "pmedm_totalhu - acs_totalhu"
   ]
  },
  {
   "cell_type": "markdown",
   "id": "14344cae-a6d7-4f9d-9cb5-9ba72cc42bb6",
   "metadata": {},
   "source": [
    "----------------------------------"
   ]
  }
 ],
 "metadata": {
  "kernelspec": {
   "display_name": "Python 3 (ipykernel)",
   "language": "python",
   "name": "python3"
  },
  "language_info": {
   "codemirror_mode": {
    "name": "ipython",
    "version": 3
   },
   "file_extension": ".py",
   "mimetype": "text/x-python",
   "name": "python",
   "nbconvert_exporter": "python",
   "pygments_lexer": "ipython3",
   "version": "3.12.8"
  }
 },
 "nbformat": 4,
 "nbformat_minor": 5
}
