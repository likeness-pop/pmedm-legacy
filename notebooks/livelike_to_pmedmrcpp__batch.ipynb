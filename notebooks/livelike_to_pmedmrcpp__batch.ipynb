{
 "cells": [
  {
   "cell_type": "markdown",
   "id": "128892d2",
   "metadata": {},
   "source": [
    "# Livelike-PMEDMrcpp Bridge: Batched Runs"
   ]
  },
  {
   "cell_type": "code",
   "execution_count": 1,
   "id": "0d807a4b-e5ed-41fa-921f-ba3096491f47",
   "metadata": {
    "execution": {
     "iopub.execute_input": "2025-02-10T03:24:12.336960Z",
     "iopub.status.busy": "2025-02-10T03:24:12.336729Z",
     "iopub.status.idle": "2025-02-10T03:24:12.367108Z",
     "shell.execute_reply": "2025-02-10T03:24:12.366668Z",
     "shell.execute_reply.started": "2025-02-10T03:24:12.336936Z"
    }
   },
   "outputs": [
    {
     "name": "stdout",
     "output_type": "stream",
     "text": [
      "Last updated: 2025-03-20T16:12:28.585340-04:00\n",
      "\n",
      "Python implementation: CPython\n",
      "Python version       : 3.12.9\n",
      "IPython version      : 9.0.2\n",
      "\n",
      "Compiler    : Clang 18.1.8 \n",
      "OS          : Darwin\n",
      "Release     : 24.3.0\n",
      "Machine     : arm64\n",
      "Processor   : arm\n",
      "CPU cores   : 8\n",
      "Architecture: 64bit\n",
      "\n"
     ]
    }
   ],
   "source": [
    "%load_ext watermark\n",
    "%watermark"
   ]
  },
  {
   "cell_type": "code",
   "execution_count": 2,
   "id": "12594bc6",
   "metadata": {
    "ExecuteTime": {
     "end_time": "2022-08-19T15:33:53.900312Z",
     "start_time": "2022-08-19T15:33:47.477433Z"
    },
    "execution": {
     "iopub.execute_input": "2025-02-10T03:24:12.368020Z",
     "iopub.status.busy": "2025-02-10T03:24:12.367831Z",
     "iopub.status.idle": "2025-02-10T03:24:14.467184Z",
     "shell.execute_reply": "2025-02-10T03:24:14.466880Z",
     "shell.execute_reply.started": "2025-02-10T03:24:12.367998Z"
    }
   },
   "outputs": [
    {
     "name": "stdout",
     "output_type": "stream",
     "text": [
      "Watermark: 2.5.0\n",
      "\n",
      "likeness_vitals: 0.1.dev3+g2392110.d20250320\n",
      "pmedm_legacy   : 0.0.5\n",
      "livelike       : 1.4.8.dev3+geea70e8\n",
      "pandas         : 2.2.3\n",
      "numpy          : 2.2.4\n",
      "\n"
     ]
    }
   ],
   "source": [
    "import pathlib\n",
    "\n",
    "import likeness_vitals\n",
    "import livelike\n",
    "import numpy\n",
    "import pandas\n",
    "\n",
    "import pmedm_legacy\n",
    "\n",
    "%watermark -w\n",
    "%watermark -iv"
   ]
  },
  {
   "cell_type": "markdown",
   "id": "1ee0b966-9923-48bf-b442-ad4a7640b2c6",
   "metadata": {},
   "source": [
    "-------------------\n",
    "\n",
    "## Get census API key"
   ]
  },
  {
   "cell_type": "code",
   "execution_count": 3,
   "id": "cf822228",
   "metadata": {
    "ExecuteTime": {
     "end_time": "2022-08-19T15:33:53.929737Z",
     "start_time": "2022-08-19T15:33:53.924361Z"
    },
    "execution": {
     "iopub.execute_input": "2025-02-10T03:24:14.467930Z",
     "iopub.status.busy": "2025-02-10T03:24:14.467774Z",
     "iopub.status.idle": "2025-02-10T03:24:14.469912Z",
     "shell.execute_reply": "2025-02-10T03:24:14.469695Z",
     "shell.execute_reply.started": "2025-02-10T03:24:14.467920Z"
    }
   },
   "outputs": [],
   "source": [
    "key = likeness_vitals.get_censusapikey(pathlib.Path(\"..\", \"..\", \"livelike\", \"\"))"
   ]
  },
  {
   "cell_type": "markdown",
   "id": "2680e6f9-2059-4be9-9e3d-436806149d8b",
   "metadata": {},
   "source": [
    "--------------------\n",
    "## Create PUMA classes (`livelike.puma`)\n",
    "### target PUMAs - Knox County, TN\n",
    "\n",
    "*This step may take several minutes*"
   ]
  },
  {
   "cell_type": "code",
   "execution_count": 4,
   "id": "9a79c19f-d203-4af2-b180-fa340e144ea0",
   "metadata": {
    "execution": {
     "iopub.execute_input": "2025-02-10T03:24:14.470323Z",
     "iopub.status.busy": "2025-02-10T03:24:14.470252Z",
     "iopub.status.idle": "2025-02-10T03:26:15.099726Z",
     "shell.execute_reply": "2025-02-10T03:26:15.099268Z",
     "shell.execute_reply.started": "2025-02-10T03:24:14.470316Z"
    }
   },
   "outputs": [],
   "source": [
    "pumas = [\"4701601\", \"4701602\", \"4701603\", \"4701604\"]\n",
    "mpu = livelike.make_pumas(pumas, cache=True, censusapikey=key)"
   ]
  },
  {
   "cell_type": "markdown",
   "id": "33a40a08",
   "metadata": {},
   "source": [
    "---------------------------\n",
    "## Create 4 P-MEDM instances and solve each"
   ]
  },
  {
   "cell_type": "code",
   "execution_count": 5,
   "id": "a96f66f0",
   "metadata": {
    "ExecuteTime": {
     "end_time": "2022-08-19T15:36:40.631339Z",
     "start_time": "2022-08-19T15:36:40.625274Z"
    },
    "execution": {
     "iopub.execute_input": "2025-02-10T03:26:15.100286Z",
     "iopub.status.busy": "2025-02-10T03:26:15.100160Z",
     "iopub.status.idle": "2025-02-10T03:29:43.457176Z",
     "shell.execute_reply": "2025-02-10T03:29:43.456883Z",
     "shell.execute_reply.started": "2025-02-10T03:26:15.100274Z"
    }
   },
   "outputs": [
    {
     "name": "stdout",
     "output_type": "stream",
     "text": [
      "Using Sparse Hessian Preconditioner\n",
      "Using Sparse Hessian Preconditioner\n",
      "Using Sparse Hessian Preconditioner\n",
      "Using Sparse Hessian Preconditioner\n",
      "Initializing PMEDM solver\n",
      "Starting Trust Region Algorithm\n",
      " iter          fun     ||grad|| ||try step||      act red     pred red     radius inner iter\n",
      "    0 -1.41331e-13     0.343387            1  -0.00310982      1.16901          1           0\n",
      "    1 -1.41331e-13     0.343387         0.25     0.383064     0.386002       0.25           0\n",
      "    2    -0.383064     0.284839          0.5     0.408097     0.521036        0.5           0\n",
      "Initializing PMEDM solver\n",
      "Starting Trust Region Algorithm\n",
      " iter          fun     ||grad|| ||try step||      act red     pred red     radius inner iter\n",
      "    0  1.13465e-13     0.220983            1     -1.55961      1.20199          1           0\n",
      "    1  1.13465e-13     0.220983         0.25     0.392344     0.394248       0.25           0\n",
      "    2    -0.392344     0.194507          0.5     0.488141     0.559896        0.5           0\n",
      "Initializing PMEDM solver\n",
      "Starting Trust Region Algorithm\n",
      " iter          fun     ||grad|| ||try step||      act red     pred red     radius inner iter\n",
      "    0  4.92939e-14     0.321281            1    -0.207928      1.06651          1           0\n",
      "    1  4.92939e-14     0.321281         0.25     0.358937     0.360378       0.25           0\n",
      "    2    -0.358937     0.266763          0.5      0.44113     0.502837        0.5           0\n",
      "    3    -0.880485      1.15061            1     0.414729      0.37672          1          20\n",
      "    3    -0.791161     0.487791     0.990602     0.404729     0.368839          1          62\n",
      "    3    -0.800067      1.70561      0.97134      0.38173     0.335575          1          48\n",
      "    4     -1.19589     0.214201     0.582465    0.0523866    0.0457889          2          65\n",
      "    4     -1.29521      0.46279     0.746369    0.0836686    0.0723105          2          97\n",
      "Initializing PMEDM solver\n",
      "Starting Trust Region Algorithm\n",
      " iter          fun     ||grad|| ||try step||      act red     pred red     radius inner iter\n",
      "    4      -1.1818     0.540628     0.668427    0.0634823    0.0544701          2          58\n",
      "    0 -8.12572e-13     0.249819            1      -10.692      1.40111          1           0\n",
      "    1 -8.12572e-13     0.249819         0.25     0.439019     0.444027       0.25           0\n",
      "    5     -1.24828    0.0429858     0.277234   0.00559486   0.00498315          4          86\n",
      "    2    -0.439019     0.222566          0.5     0.327436     0.544532        0.5           1\n",
      "    3    -0.766454      3.14012          0.5    0.0454369     0.175763        0.5          12\n",
      "    5     -1.24528     0.166659     0.383536   0.00899924   0.00781832          4          79\n",
      "    6     -1.25387   0.00719519    0.0895203  0.000357516  0.000330117          8         109\n",
      "    5     -1.37888     0.124483     0.395788    0.0106922   0.00950573          4         112\n",
      "    4    -0.811891      7.55848          0.5   -0.0928623     0.349079        0.5          22\n",
      "    5    -0.811891      7.55848          nan          nan          nan      0.125          14\n",
      "    6    -0.811891      7.55848          nan          nan          nan    0.03125          10\n",
      "    7     -1.25423  0.000717812    0.0264401  1.04601e-05  9.87856e-06         16         124\n",
      "    8     -1.25424  3.87204e-05           -            -            -          -           - \n",
      "Solver ended with convergence\n",
      "    7    -0.811891      7.55848          nan          nan          nan  0.0078125           9\n",
      "    6     -1.25428    0.0481359     0.160227  0.000978936  0.000875259          8          98\n",
      "    8    -0.811891      7.55848          nan          nan          nan 0.00195312           8\n",
      "    6     -1.38957    0.0273154     0.119378  0.000735835  0.000672479          8         123\n",
      "    9    -0.811891      7.55848          nan          nan          nan 0.000488281           5\n",
      "   10    -0.811891      7.55848          nan          nan          nan 0.00012207           3\n",
      "   11    -0.811891      7.55848          nan          nan          nan 3.05176e-05           1\n",
      "   12    -0.811891      7.55848  7.62939e-06  0.000440444  0.000440444 7.62939e-06           0\n",
      "   13    -0.812332      7.55009  1.52588e-05  0.000878893  0.000878892 1.52588e-05           0\n",
      "   14    -0.813211      7.53334          nan          nan          nan 3.05176e-05           1\n",
      "   15    -0.813211      7.53334  7.62939e-06  0.000438451  0.000438451 7.62939e-06           0\n",
      "   16    -0.813649      7.52499  1.52588e-05  0.000874918  0.000874917 1.52588e-05           0\n",
      "   17    -0.814524      7.50832          nan          nan          nan 3.05176e-05           1\n",
      "   18    -0.814524      7.50832  7.62939e-06  0.000436469  0.000436469 7.62939e-06           0\n",
      "   19     -0.81496      7.50001  1.52588e-05  0.000870964  0.000870962 1.52588e-05           0\n",
      "Using Sparse Hessian Preconditioner\n",
      "    7     -1.25526    0.0100149    0.0354115  4.87114e-05  4.65272e-05         16         105\n",
      "    7     -1.39031   0.00461123    0.0167996  3.98686e-05  3.58947e-05         16         132\n",
      "    8     -1.25531  0.000811331   0.00224863  2.94429e-07  2.92896e-07         32         104\n",
      "    9     -1.25531  6.81699e-06           -            -            -          -           - \n",
      "Solver ended with convergence\n",
      "   20    -0.815831      7.48341   0.00155166    0.0016613    0.0016613 0.00155166           0\n",
      "    8     -1.39035  0.000610319    0.0023121   1.7683e-06  1.70087e-06         32         129\n",
      "    9     -1.39035  3.48855e-05           -            -            -          -           - \n",
      "Solver ended with convergence\n",
      "   21    -0.817493      7.47258   0.00310331   0.00331537   0.00331537 0.00310331           0\n",
      "   22    -0.820808       7.4509   0.00620662   0.00660182   0.00660183 0.00620662           0\n",
      "   23     -0.82741      7.40754    0.0124132    0.0130879    0.0130879  0.0124132           0\n",
      "   24    -0.840498      7.32081    0.0248265    0.0257116    0.0257119  0.0248265           0\n",
      "   25    -0.866209      7.14738     0.049653    0.0495588    0.0495617   0.049653           0\n",
      "   26    -0.915768      6.80116    0.0993059    0.0916051    0.0916256  0.0993059           0\n",
      "   27     -1.00737      6.11565     0.198612     0.152956     0.153027   0.198612           0\n",
      "   28     -1.16033        4.805     0.397224     0.193394     0.190237   0.397224           0\n",
      "   29     -1.35372      2.64506     0.614499     0.126082     0.106086   0.794448          30\n",
      "   30      -1.4798      0.88692     0.489819    0.0285149    0.0230824     1.5889          45\n",
      "   31     -1.50832     0.311438     0.464081   0.00875218   0.00699239    3.17779          67\n",
      "   32     -1.51707     0.111488     0.450891   0.00295954   0.00235686    6.35558          92\n",
      "   33     -1.52003    0.0400534     0.440122    0.0010228  0.000813371    12.7112         140\n",
      "   34     -1.52105    0.0142671     0.436748  0.000358759  0.000284485    25.4223         209\n",
      "   35     -1.52141   0.00502155       0.4671  0.000137443  0.000107134    50.8446         269\n",
      "   36     -1.52155   0.00186939      0.56975  6.62296e-05  5.02064e-05    101.689         258\n",
      "Exited at end.\n",
      "   37     -1.52162  0.000802131     0.871865  4.53804e-05  3.30287e-05    203.379         300\n",
      "Exited at end.\n",
      "   38     -1.52166  0.000391381      2.07035  4.80253e-05  3.61795e-05    406.757         300\n",
      "Exited at end.\n",
      "   39     -1.52171  0.000151586      1.79538  1.28673e-05  1.23054e-05    813.514         300\n",
      "Using Sparse Hessian Preconditioner\n",
      "   40     -1.52172  2.40332e-05           -            -            -          -           - \n",
      "Solver ended with convergence\n"
     ]
    }
   ],
   "source": [
    "pmds = pmedm_legacy.parallel.parallel_solve(\n",
    "    mpu,\n",
    "    tr_iter=300,\n",
    "    tr_tol=1e-4,\n",
    ")"
   ]
  },
  {
   "cell_type": "markdown",
   "id": "060cbf91",
   "metadata": {},
   "source": [
    "-------------------------------\n",
    "## Diagnostics"
   ]
  },
  {
   "cell_type": "code",
   "execution_count": 6,
   "id": "9120499f",
   "metadata": {
    "execution": {
     "iopub.execute_input": "2025-02-10T03:29:43.458731Z",
     "iopub.status.busy": "2025-02-10T03:29:43.458632Z",
     "iopub.status.idle": "2025-02-10T03:29:43.762030Z",
     "shell.execute_reply": "2025-02-10T03:29:43.761801Z",
     "shell.execute_reply.started": "2025-02-10T03:29:43.458715Z"
    }
   },
   "outputs": [
    {
     "name": "stdout",
     "output_type": "stream",
     "text": [
      "PUMA 4701601\n",
      "\n",
      "ACS 90% MOE Fit Rate: 0.9998\n",
      "\n",
      "ACS Total Population: 107250\n",
      "P-MEDM Total Population: 107315.79589745788\n",
      "Error : 65.79589745787962\n",
      "Error (%) : 0.0006134815613788309\n",
      "\n",
      "ACS Total Housing Units: 49264\n",
      "P-MEDM Total Units: 49290.556244128675\n",
      "Error : 26.556244128674734\n",
      "Error (%) : 0.0005390598434693637\n",
      "\n",
      "\n",
      "PUMA 4701602\n",
      "\n",
      "ACS 90% MOE Fit Rate: 0.9996\n",
      "\n",
      "ACS Total Population: 113236\n",
      "P-MEDM Total Population: 113175.41156171571\n",
      "Error : -60.58843828429235\n",
      "Error (%) : 0.0005350633922453315\n",
      "\n",
      "ACS Total Housing Units: 47525\n",
      "P-MEDM Total Units: 47636.26087667536\n",
      "Error : 111.26087667536194\n",
      "Error (%) : 0.0023411020868040386\n",
      "\n",
      "\n",
      "PUMA 4701603\n",
      "\n",
      "ACS 90% MOE Fit Rate: 0.9999\n",
      "\n",
      "ACS Total Population: 178350\n",
      "P-MEDM Total Population: 178786.87245946575\n",
      "Error : 436.8724594657542\n",
      "Error (%) : 0.002449523181753598\n",
      "\n",
      "ACS Total Housing Units: 87369\n",
      "P-MEDM Total Units: 87765.49277844286\n",
      "Error : 396.49277844285825\n",
      "Error (%) : 0.004538140283657341\n",
      "\n",
      "\n",
      "PUMA 4701604\n",
      "\n",
      "ACS 90% MOE Fit Rate: 0.9999\n",
      "\n",
      "ACS Total Population: 157817\n",
      "P-MEDM Total Population: 157598.54443891608\n",
      "Error : -218.4555610839161\n",
      "Error (%) : 0.0013842333911043558\n",
      "\n",
      "ACS Total Housing Units: 65814\n",
      "P-MEDM Total Units: 65912.77612754946\n",
      "Error : 98.77612754945585\n",
      "Error (%) : 0.0015008376264845755\n",
      "\n",
      "\n"
     ]
    }
   ],
   "source": [
    "ycp_all = []\n",
    "ych_all = []\n",
    "\n",
    "for p in mpu:\n",
    "    print(f\"PUMA {p}\\n\")\n",
    "\n",
    "    mfrs = pmedm_legacy.moe_fit_rate(\n",
    "        mpu[p].est_ind,\n",
    "        mpu[p].est_g2,\n",
    "        mpu[p].se_g2,\n",
    "        pmds[p].pmedm_res[\"almat\"],\n",
    "    )\n",
    "\n",
    "    print(\"ACS 90% MOE Fit Rate: \" + str(numpy.round(mfrs[\"moe_fit_rate\"], 4)) + \"\\n\")\n",
    "\n",
    "    Ycomps = mfrs[\"Ycomp\"]\n",
    "    ycp = Ycomps[Ycomps[\"constraint\"] == \"population\"]\n",
    "    ych = Ycomps[Ycomps[\"constraint\"] == \"housing_units\"]\n",
    "\n",
    "    acs_totalpop = ycp[\"acs\"].sum()\n",
    "    pmedm_totalpop = ycp[\"pmedm\"].sum()\n",
    "    err_totalpop = pmedm_totalpop - acs_totalpop\n",
    "\n",
    "    acs_totalhu = ych[\"acs\"].sum()\n",
    "    pmedm_totalhu = ych[\"pmedm\"].sum()\n",
    "    err_totalhu = pmedm_totalhu - acs_totalhu\n",
    "\n",
    "    print(f\"ACS Total Population: {acs_totalpop}\")\n",
    "    print(f\"P-MEDM Total Population: {pmedm_totalpop}\")\n",
    "    print(f\"Error : {err_totalpop}\")\n",
    "    print(f\"Error (%) : {abs(err_totalpop) / acs_totalpop}\\n\")\n",
    "\n",
    "    print(f\"ACS Total Housing Units: {acs_totalhu}\")\n",
    "    print(f\"P-MEDM Total Units: {pmedm_totalhu}\")\n",
    "    print(f\"Error : {pmedm_totalhu - acs_totalhu}\")\n",
    "    print(f\"Error (%) : {abs(err_totalhu) / acs_totalhu}\\n\\n\")\n",
    "\n",
    "    ycp_all += [ycp]\n",
    "    ych_all += [ych]"
   ]
  },
  {
   "cell_type": "markdown",
   "id": "be7651d8",
   "metadata": {},
   "source": [
    "-------------------------\n",
    "\n",
    "## Population Synthesis"
   ]
  },
  {
   "cell_type": "code",
   "execution_count": 7,
   "id": "d1184871",
   "metadata": {
    "ExecuteTime": {
     "end_time": "2022-08-19T15:38:23.581127Z",
     "start_time": "2022-08-19T15:38:10.807768Z"
    },
    "execution": {
     "iopub.execute_input": "2025-02-10T03:29:43.762455Z",
     "iopub.status.busy": "2025-02-10T03:29:43.762328Z",
     "iopub.status.idle": "2025-02-10T03:29:44.641874Z",
     "shell.execute_reply": "2025-02-10T03:29:44.641523Z",
     "shell.execute_reply.started": "2025-02-10T03:29:43.762447Z"
    }
   },
   "outputs": [],
   "source": [
    "# TODO: use parallel processing\n",
    "syps = []\n",
    "for p in pumas:\n",
    "    _syp = livelike.homesim.synthesize(\n",
    "        pmds[p].pmedm_res[\"almat\"],\n",
    "        mpu[p].est_ind,\n",
    "        mpu[p].est_g2,\n",
    "        mpu[p].sporder,\n",
    "        nsim=1,\n",
    "        random_state=int(p),\n",
    "    )\n",
    "    _syp = _syp.reset_index()\n",
    "    syps += [_syp]"
   ]
  },
  {
   "cell_type": "code",
   "execution_count": 8,
   "id": "9af26c89",
   "metadata": {
    "execution": {
     "iopub.execute_input": "2025-02-10T03:29:44.642468Z",
     "iopub.status.busy": "2025-02-10T03:29:44.642371Z",
     "iopub.status.idle": "2025-02-10T03:29:44.649255Z",
     "shell.execute_reply": "2025-02-10T03:29:44.649021Z",
     "shell.execute_reply.started": "2025-02-10T03:29:44.642461Z"
    }
   },
   "outputs": [
    {
     "data": {
      "text/html": [
       "<div>\n",
       "<style scoped>\n",
       "    .dataframe tbody tr th:only-of-type {\n",
       "        vertical-align: middle;\n",
       "    }\n",
       "\n",
       "    .dataframe tbody tr th {\n",
       "        vertical-align: top;\n",
       "    }\n",
       "\n",
       "    .dataframe thead th {\n",
       "        text-align: right;\n",
       "    }\n",
       "</style>\n",
       "<table border=\"1\" class=\"dataframe\">\n",
       "  <thead>\n",
       "    <tr style=\"text-align: right;\">\n",
       "      <th></th>\n",
       "      <th>h_id</th>\n",
       "      <th>sim</th>\n",
       "      <th>geoid</th>\n",
       "      <th>count</th>\n",
       "    </tr>\n",
       "  </thead>\n",
       "  <tbody>\n",
       "    <tr>\n",
       "      <th>0</th>\n",
       "      <td>2015000045904</td>\n",
       "      <td>0</td>\n",
       "      <td>470010201001</td>\n",
       "      <td>1</td>\n",
       "    </tr>\n",
       "    <tr>\n",
       "      <th>1</th>\n",
       "      <td>2015000050397</td>\n",
       "      <td>0</td>\n",
       "      <td>470010201001</td>\n",
       "      <td>1</td>\n",
       "    </tr>\n",
       "    <tr>\n",
       "      <th>2</th>\n",
       "      <td>2015000054551</td>\n",
       "      <td>0</td>\n",
       "      <td>470010201001</td>\n",
       "      <td>1</td>\n",
       "    </tr>\n",
       "    <tr>\n",
       "      <th>3</th>\n",
       "      <td>2015000067347</td>\n",
       "      <td>0</td>\n",
       "      <td>470010201001</td>\n",
       "      <td>5</td>\n",
       "    </tr>\n",
       "    <tr>\n",
       "      <th>4</th>\n",
       "      <td>2015000089285</td>\n",
       "      <td>0</td>\n",
       "      <td>470010201001</td>\n",
       "      <td>1</td>\n",
       "    </tr>\n",
       "    <tr>\n",
       "      <th>...</th>\n",
       "      <td>...</td>\n",
       "      <td>...</td>\n",
       "      <td>...</td>\n",
       "      <td>...</td>\n",
       "    </tr>\n",
       "    <tr>\n",
       "      <th>41945</th>\n",
       "      <td>2019HU1396194</td>\n",
       "      <td>0</td>\n",
       "      <td>470930060032</td>\n",
       "      <td>9</td>\n",
       "    </tr>\n",
       "    <tr>\n",
       "      <th>41946</th>\n",
       "      <td>2019HU1397336</td>\n",
       "      <td>0</td>\n",
       "      <td>470930060032</td>\n",
       "      <td>1</td>\n",
       "    </tr>\n",
       "    <tr>\n",
       "      <th>41947</th>\n",
       "      <td>2019HU1405831</td>\n",
       "      <td>0</td>\n",
       "      <td>470930060032</td>\n",
       "      <td>1</td>\n",
       "    </tr>\n",
       "    <tr>\n",
       "      <th>41948</th>\n",
       "      <td>2019HU1406178</td>\n",
       "      <td>0</td>\n",
       "      <td>470930060032</td>\n",
       "      <td>2</td>\n",
       "    </tr>\n",
       "    <tr>\n",
       "      <th>41949</th>\n",
       "      <td>2019HU1406605</td>\n",
       "      <td>0</td>\n",
       "      <td>470930060032</td>\n",
       "      <td>1</td>\n",
       "    </tr>\n",
       "  </tbody>\n",
       "</table>\n",
       "<p>169147 rows × 4 columns</p>\n",
       "</div>"
      ],
      "text/plain": [
       "                h_id  sim         geoid  count\n",
       "0      2015000045904    0  470010201001      1\n",
       "1      2015000050397    0  470010201001      1\n",
       "2      2015000054551    0  470010201001      1\n",
       "3      2015000067347    0  470010201001      5\n",
       "4      2015000089285    0  470010201001      1\n",
       "...              ...  ...           ...    ...\n",
       "41945  2019HU1396194    0  470930060032      9\n",
       "41946  2019HU1397336    0  470930060032      1\n",
       "41947  2019HU1405831    0  470930060032      1\n",
       "41948  2019HU1406178    0  470930060032      2\n",
       "41949  2019HU1406605    0  470930060032      1\n",
       "\n",
       "[169147 rows x 4 columns]"
      ]
     },
     "execution_count": 8,
     "metadata": {},
     "output_type": "execute_result"
    }
   ],
   "source": [
    "syps = pandas.concat(syps, axis=0)\n",
    "syps"
   ]
  },
  {
   "cell_type": "markdown",
   "id": "e3acd99a-bbef-48f6-ba4b-d537a75650e0",
   "metadata": {},
   "source": [
    "---------------------"
   ]
  }
 ],
 "metadata": {
  "kernelspec": {
   "display_name": "Python 3 (ipykernel)",
   "language": "python",
   "name": "python3"
  },
  "language_info": {
   "codemirror_mode": {
    "name": "ipython",
    "version": 3
   },
   "file_extension": ".py",
   "mimetype": "text/x-python",
   "name": "python",
   "nbconvert_exporter": "python",
   "pygments_lexer": "ipython3",
   "version": "3.12.9"
  }
 },
 "nbformat": 4,
 "nbformat_minor": 5
}
